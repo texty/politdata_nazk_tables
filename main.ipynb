{
 "cells": [
  {
   "cell_type": "code",
   "execution_count": 1,
   "metadata": {},
   "outputs": [],
   "source": [
    "# ! pip install openpyxl xlsxwriter requests pandas tqdm"
   ]
  },
  {
   "cell_type": "code",
   "execution_count": 2,
   "metadata": {},
   "outputs": [],
   "source": [
    "%load_ext autoreload\n",
    "%autoreload 1\n",
    "%aimport main_functions\n",
    "\n",
    "import requests, pandas as pd, os\n",
    "from time import sleep\n",
    "from datetime import datetime\n",
    "from tqdm import tqdm\n",
    "from main_functions import subset_table, list_to_rows, save_as_excel, clean_bank_account, org_name_clean \n",
    "from data.data_for_downloader.renamers import renamer_1, renamer_2, renamer_3, renamer_4, renamer_5, renamer_6, renamer_7, renamer_8, renamer_9, renamer_10, renamer_11, renamer_12, renamer_13, renamer_14, renamer_15, renamer_16, renamer_17, renamer_18, renamer_19, renamer_20\n",
    "\n",
    "# pandas show all columns \n",
    "pd.set_option('display.max_columns', None)\n",
    "\n",
    "# pandas wider columns\n",
    "pd.set_option('display.max_colwidth', None)"
   ]
  },
  {
   "cell_type": "code",
   "execution_count": 3,
   "metadata": {},
   "outputs": [],
   "source": [
    "# !!! set to True if you want to update all data from the very beginning\n",
    "full_update = True"
   ]
  },
  {
   "cell_type": "markdown",
   "metadata": {},
   "source": [
    "https://politdata.nazk.gov.ua/api/swagger/#/reports/get_getreport__id_  \n",
    "https://politdata.nazk.gov.ua/#/  \n",
    "https://docs.google.com/document/d/1X68OvBYCQEiGG_nbjiD2fE0PZ1JIvbSsfXjrHUjOZ0c/edit?usp=sharing  "
   ]
  },
  {
   "cell_type": "markdown",
   "metadata": {},
   "source": [
    "## Download party info"
   ]
  },
  {
   "cell_type": "code",
   "execution_count": 4,
   "metadata": {},
   "outputs": [],
   "source": [
    "# таблиця зі всіма партіями (api/getpartylistmain)\n",
    "\n",
    "party_list = requests.get('https://politdata.nazk.gov.ua/api/getpartylistmain').json()\n",
    "party_list = pd.DataFrame(party_list['data'])\n",
    "party_list = party_list.drop(['locationFact','politPartyUnitId','locations'], axis=1)\n",
    "\n",
    "\n",
    "# таблиця зі всіма регіональними представництвами (api/getpartylistregion)\n",
    "\n",
    "party_region_list = requests.get('https://politdata.nazk.gov.ua/api/getpartylistregion').json()\n",
    "party_region_list = pd.DataFrame(party_region_list['data'])\n",
    "party_region_list = party_region_list.drop(['locationFact','locations'], axis=1) \n",
    "\n",
    "# додати інформацію про центральні партії до регіональних філій\n",
    "party_region_list = party_region_list.merge(party_list[['name','unitId','code']]\n",
    "                                            .rename({'name':'party_main_name', 'code':'party_main_EDRPOU','unitId':'party_main_unitId'}, \n",
    "                                                    axis=1), \n",
    "                                            right_on='party_main_unitId', \n",
    "                                            left_on='politPartyUnitId', \n",
    "                                            how='left')\n",
    "\n",
    "# перейменувати\n",
    "party_region_list = party_region_list.rename({'name':'local_org_name', 'code':'local_org_EDRPOU'},axis=1)"
   ]
  },
  {
   "cell_type": "code",
   "execution_count": 5,
   "metadata": {},
   "outputs": [],
   "source": [
    "# Якщо серед донорів зустрічаються партійні осередки чи центральний офіс політичної партії 'donor_type' замінити на “партійний осередок” (визначила по 'donor_edrpou')\n",
    "def check_edrpou_for_party(table, var_edrpou_to_search, var_to_replace):\n",
    "    table.loc[(table[var_edrpou_to_search].isin(party_list.code.tolist()))|\n",
    "              (table[var_edrpou_to_search].isin(party_region_list.local_org_EDRPOU.tolist())), \n",
    "              var_to_replace] = 'Партійний осередок'\n",
    "    return table"
   ]
  },
  {
   "cell_type": "markdown",
   "metadata": {},
   "source": [
    "## Download all reports"
   ]
  },
  {
   "cell_type": "code",
   "execution_count": 6,
   "metadata": {},
   "outputs": [
    {
     "data": {
      "text/plain": [
       "813"
      ]
     },
     "execution_count": 6,
     "metadata": {},
     "output_type": "execute_result"
    }
   ],
   "source": [
    "# завантажити список всіх звітів, які є в системі\n",
    "\n",
    "report_list = requests.get('https://politdata.nazk.gov.ua/api/getreportslist').json()\n",
    "report_list = [X['id'] for X in report_list]\n",
    "len(report_list)"
   ]
  },
  {
   "cell_type": "code",
   "execution_count": 7,
   "metadata": {},
   "outputs": [
    {
     "data": {
      "text/plain": [
       "812"
      ]
     },
     "execution_count": 7,
     "metadata": {},
     "output_type": "execute_result"
    }
   ],
   "source": [
    "# завантажити список всіх звітів, які вже були завантажені\n",
    "\n",
    "with open('data/data_for_downloader/downloaded_report_ids.txt', 'r') as f:\n",
    "    downloaded_report_ids = f.read().splitlines()\n",
    "\n",
    "len(downloaded_report_ids)"
   ]
  },
  {
   "cell_type": "code",
   "execution_count": 8,
   "metadata": {},
   "outputs": [
    {
     "data": {
      "text/plain": [
       "813"
      ]
     },
     "execution_count": 8,
     "metadata": {},
     "output_type": "execute_result"
    }
   ],
   "source": [
    "# у залежності від типу оновлення (повний чи частковий) визначити список звітів, які потрібно завантажити\n",
    "\n",
    "if full_update:\n",
    "    reports_to_download = report_list\n",
    "else:\n",
    "    reports_to_download = [x for x in report_list if x not in downloaded_report_ids]\n",
    "\n",
    "len(reports_to_download)"
   ]
  },
  {
   "cell_type": "code",
   "execution_count": 9,
   "metadata": {},
   "outputs": [
    {
     "name": "stderr",
     "output_type": "stream",
     "text": [
      "100%|██████████| 813/813 [08:28<00:00,  1.60it/s]  \n"
     ]
    }
   ],
   "source": [
    "r_df = pd.DataFrame()\n",
    "for i in tqdm(reports_to_download):\n",
    "    one_report = requests.get(f'https://politdata.nazk.gov.ua/api/getreport/{i}').json()\n",
    "    \n",
    "    one_report_df = pd.DataFrame(one_report)\n",
    "    one_report_df['report_id'] = i\n",
    "    r_df = pd.concat([r_df, one_report_df], axis=0, ignore_index=True)\n",
    "\n",
    "    sleep(0.2)"
   ]
  },
  {
   "cell_type": "code",
   "execution_count": 10,
   "metadata": {},
   "outputs": [],
   "source": [
    "# Файл зі всіма завантаженими звітами\n",
    "\n",
    "if full_update:\n",
    "\n",
    "    # створити новий файл зі всіма завантаженими звітами\n",
    "    with open('data/data_for_downloader/downloaded_report_ids.txt', 'w') as f:\n",
    "        for report_id in r_df['report_id'].unique():\n",
    "            f.write(str(report_id) + '\\n')\n",
    "\n",
    "else:\n",
    "    \n",
    "    # додати підвантажені звіти до txt файлу\n",
    "    with open('data/data_for_downloader/downloaded_report_ids.txt', 'a') as f:\n",
    "        for report_id in r_df['report_id'].unique():\n",
    "            f.write(str(report_id) + '\\n')"
   ]
  },
  {
   "cell_type": "code",
   "execution_count": 11,
   "metadata": {},
   "outputs": [],
   "source": [
    "# додати інфу про центральний офіс (який був визначений в кожному звіті)\n",
    "party_main_finder = r_df.loc[r_df.officeType==\"Центральний офіс\",['report_id','partyCode','partyName']].rename({'partyCode':'party_main_EDRPOU','partyName':'party_main_name'}, axis=1)\n",
    "\n",
    "# обʼєднати r_df та party_main_finder\n",
    "r_df = r_df.merge(party_main_finder, on='report_id', how='left')"
   ]
  },
  {
   "cell_type": "code",
   "execution_count": 12,
   "metadata": {},
   "outputs": [],
   "source": [
    "# Чистка назв партій\n",
    "\n",
    "r_df['party_main_name'] = r_df['party_main_name'].str.upper()\n",
    "\n",
    "to_delete = ['^ПОЛІТИЧНА ПАРТІЯ ', '^ВСЕУКРАЇНСЬКЕ ОБ\\'ЄДНАННЯ ', 'ВСЕУКРАЇНСЬКЕ ПОЛІТИЧНЕ ОБ\\'ЄДНАННЯ',\n",
    "             'ПОЛІТИЧЯНА ПАРТІЯ','СОЦІАЛЬНО-ЕКОЛОГІЧНА ПАРТІЯ', 'ВСЕУКРАЇНСЬКЕ ОБ\\'ЄДНАННЯ', 'СОЦІАЛЬНО-ПОЛІТИЧНИЙ СОЮЗ ',\n",
    "             '«', '»', '\\\"']\n",
    "for words in to_delete:\n",
    "    r_df['party_main_name'] = r_df['party_main_name'].str.replace(words, '', regex=True)\n",
    "\n",
    "# прибрати зайві пробіли\n",
    "r_df['party_main_name'] = r_df['party_main_name'].str.replace('\\s+', ' ', regex=True).str.strip()\n",
    "\n",
    "\n",
    "# ручні правки\n",
    "party_renamer = {\n",
    "    'РІШУЧИХ ДІЙ': 'ПАРТІЯ РІШУЧИХ ДІЙ',\n",
    "    'КОНКРЕТНИХ СПРАВ':'ПАРТІЯ КОНКРЕТНИХ СПРАВ',\n",
    "    'БЛОК СВІТЛИЧНОЇ РАЗОМ!':'БЛОК СВІТЛИЧНОЇ «РАЗОМ!»',\n",
    "    'ПАРТІЯ ВОЛОДИМИРА БУРЯКА ЄДНАННЯ':'ПАРТІЯ ВОЛОДИМИРА БУРЯКА «ЄДНАННЯ»',\n",
    "    'МИР':'ВСЕУКРАЇНСЬКЕ ОБ\\'ЄДНАННЯ «МИР»',\n",
    "    'ПАРТІЯ ІГОРЯ КОЛИХАЄВА НАМ ТУТ ЖИТИ!':'ПАРТІЯ ІГОРЯ КОЛИХАЄВА «НАМ ТУТ ЖИТИ!»',\n",
    "    'КОМАНДА МАКСИМА ЄФІМОВА НАШ КРАМАТОРСЬК':'КОМАНДА МАКСИМА ЄФІМОВА «НАШ КРАМАТОРСЬК»',\n",
    "    'ГРОМАДСЬКО-ПОЛІТИЧНИЙ РУХ ВАЛЕНТИНА НАЛИВАЙЧЕНКА СПРАВЕДЛИВІСТЬ':'ГРОМАДСЬКО-ПОЛІТИЧНИЙ РУХ ВАЛЕНТИНА НАЛИВАЙЧЕНКА «СПРАВЕДЛИВІСТЬ»',\n",
    "    'МАЛОГО І СЕРЕДНЬОГО БІЗНЕСУ УКРАЇНИ':'ПАРТІЯ МАЛОГО І СЕРЕДНЬОГО БІЗНЕСУ УКРАЇНИ',\n",
    "    'БЛОК ВІЛКУЛА УКРАЇНСЬКА ПЕРСПЕКТИВА':'БЛОК ВІЛКУЛА «УКРАЇНСЬКА ПЕРСПЕКТИВА»',\n",
    "    'НАЦІОНАЛЬНО-ДЕМОКРАТИЧНЕ ОБ\\'ЄДНАННЯ УКРАЇНА':'НАЦІОНАЛЬНО-ДЕМОКРАТИЧНЕ ОБ\\'ЄДНАННЯ «УКРАЇНА»',\n",
    "    'ГРОМАДЯНСЬКИЙ РУХ СВІДОМІ':'ГРОМАДЯНСЬКИЙ РУХ «СВІДОМІ»',\n",
    "    'ВО ПЛАТФОРМА ГРОМАД':'ПЛАТФОРМА ГРОМАД'\n",
    "}\n",
    "\n",
    "r_df['party_main_name'] = r_df['party_main_name'].replace(party_renamer)"
   ]
  },
  {
   "cell_type": "markdown",
   "metadata": {},
   "source": [
    "## Tables"
   ]
  },
  {
   "cell_type": "markdown",
   "metadata": {},
   "source": [
    "### Таблиця 0.1: Перевірка на наявність дублів"
   ]
  },
  {
   "cell_type": "code",
   "execution_count": 13,
   "metadata": {},
   "outputs": [],
   "source": [
    "# create report about duplicates\n",
    "to_subset = ['period','year','partyName','partyCode','report_id']\n",
    "duplicates = r_df[r_df.duplicated(subset=to_subset,keep=False)]\n",
    "\n",
    "if len(duplicates) > 0:\n",
    "    save_as_excel(duplicates, '0_report_duplcates', full_update)"
   ]
  },
  {
   "cell_type": "code",
   "execution_count": 14,
   "metadata": {},
   "outputs": [
    {
     "data": {
      "text/plain": [
       "642"
      ]
     },
     "execution_count": 14,
     "metadata": {},
     "output_type": "execute_result"
    }
   ],
   "source": [
    "len(duplicates)"
   ]
  },
  {
   "cell_type": "markdown",
   "metadata": {},
   "source": [
    "### Таблиця 1: загальна інформація про партію/осередок"
   ]
  },
  {
   "cell_type": "code",
   "execution_count": 15,
   "metadata": {},
   "outputs": [],
   "source": [
    "filename = '1_legal_entity_report_info'"
   ]
  },
  {
   "cell_type": "code",
   "execution_count": 16,
   "metadata": {},
   "outputs": [],
   "source": [
    "cols_to_select = [x for x in renamer_1.keys() if x in r_df.columns]\n",
    "table = r_df[cols_to_select].rename(renamer_1, axis=1)\n",
    "\n",
    "# add None if empty column\n",
    "for v in renamer_1.values():\n",
    "    if v not in table.columns:\n",
    "        table[v] = None\n",
    "\n",
    "table = table[list(renamer_1.values())]\n",
    "\n",
    "save_as_excel(table, filename, full_update)"
   ]
  },
  {
   "cell_type": "markdown",
   "metadata": {},
   "source": [
    "### Таблиця 0.2: Інформація про те, за який період кожна партія подала звіти"
   ]
  },
  {
   "cell_type": "code",
   "execution_count": 17,
   "metadata": {},
   "outputs": [
    {
     "name": "stderr",
     "output_type": "stream",
     "text": [
      "/tmp/ipykernel_104793/371056082.py:4: SettingWithCopyWarning: \n",
      "A value is trying to be set on a copy of a slice from a DataFrame.\n",
      "Try using .loc[row_indexer,col_indexer] = value instead\n",
      "\n",
      "See the caveats in the documentation: https://pandas.pydata.org/pandas-docs/stable/user_guide/indexing.html#returning-a-view-versus-a-copy\n",
      "  table_subset['reported_period'] = table_subset['report_year'].astype(str) + ', ' + table_subset['report_period']\n"
     ]
    }
   ],
   "source": [
    "table = pd.read_excel('data/excel_tables/1_legal_entity_report_info.xlsx')\n",
    "\n",
    "table_subset = table[['legal_entity_name','legal_entity_edrpou','officeType','party_main_name','party_main_EDRPOU','report_id','report_period','report_year']]\n",
    "table_subset['reported_period'] = table_subset['report_year'].astype(str) + ', ' + table_subset['report_period']\n",
    "table_subset = table_subset.drop(['report_period','report_year'], axis=1).drop_duplicates()\n",
    "\n",
    "# якщо для 1 періоду є декілька report_id - об'єднати через ;  \n",
    "table_subset = table_subset.groupby(['legal_entity_name','legal_entity_edrpou','officeType','party_main_name','party_main_EDRPOU','reported_period'], as_index=False).agg({'report_id': lambda x: '; '.join(x)})\n",
    "\n",
    "table_subset = table_subset.pivot(index=['legal_entity_name','legal_entity_edrpou','officeType','party_main_name','party_main_EDRPOU'], \n",
    "                                  values='report_id',columns='reported_period',).reset_index().sort_values('party_main_name').fillna('')"
   ]
  },
  {
   "cell_type": "code",
   "execution_count": 18,
   "metadata": {},
   "outputs": [],
   "source": [
    "table_subset.to_excel('data/excel_tables/0_reports_per_period_per_party.xlsx', index=False, engine='xlsxwriter')"
   ]
  },
  {
   "cell_type": "markdown",
   "metadata": {},
   "source": [
    "### Таблиця 2: інформація про осередки політичної партії  \n",
    "Назва файлу: 2.2_other_party_orgs_info"
   ]
  },
  {
   "cell_type": "code",
   "execution_count": 19,
   "metadata": {},
   "outputs": [],
   "source": [
    "main_var = 'tablets1'\n",
    "\n",
    "cols_to_select = ['partyLocationRegion','period', 'year', 'party_main_name','party_main_EDRPOU','report_id', 'officeType']\n",
    "\n",
    "filename = '2.1_local_orgs_info'"
   ]
  },
  {
   "cell_type": "code",
   "execution_count": 20,
   "metadata": {},
   "outputs": [],
   "source": [
    "table = subset_table(r_df, main_var, cols_to_select)\n",
    "\n",
    "if len(table) > 0:\n",
    "\n",
    "    t = list_to_rows(table, main_var, cols_to_select, renamer_2)\n",
    "    t = t[list(renamer_2.values())+['party_main_name','party_main_EDRPOU','report_id','officeType']]\n",
    "\n",
    "    # Для центральних офісів політичних партій legal_entity_region –> “Україна”\n",
    "    t.loc[t.officeType == 'Центральний офіс', 'legal_entity_region'] = 'Україна'\n",
    "    # і потім видалити 'officeType'\n",
    "    t = t.drop('officeType', axis=1)\n",
    "\n",
    "    save_as_excel(t, filename, full_update)"
   ]
  },
  {
   "cell_type": "markdown",
   "metadata": {},
   "source": [
    "### Таблиця 3: інформація про інші підприємства, установи та організації створені партією політичної партії"
   ]
  },
  {
   "cell_type": "code",
   "execution_count": 21,
   "metadata": {},
   "outputs": [],
   "source": [
    "cols_to_select = ['period', 'year', 'party_main_name','party_main_EDRPOU','report_id']\n",
    "\n",
    "main_var = 'tablets2'\n",
    "\n",
    "filename = '2.2_other_party_orgs_info'"
   ]
  },
  {
   "cell_type": "code",
   "execution_count": 22,
   "metadata": {},
   "outputs": [],
   "source": [
    "table = subset_table(r_df, main_var, cols_to_select)\n",
    "\n",
    "if len(table) > 0:\n",
    "    t = list_to_rows(table, main_var, cols_to_select, renamer_3)\n",
    "    t = t[list(renamer_3.values())+['party_main_name','party_main_EDRPOU','report_id']]\n",
    "    \n",
    "    # delete empty values\n",
    "    t = t[(t.other_party_org_name != '0')|(t.other_party_org_EDRPOU != '00000000')]\n",
    "\n",
    "    save_as_excel(t, filename, full_update)"
   ]
  },
  {
   "cell_type": "markdown",
   "metadata": {},
   "source": [
    "### Таблиця 4: зведена інформація про нерухоме майно політичної партії (propertyObjects)"
   ]
  },
  {
   "cell_type": "code",
   "execution_count": 23,
   "metadata": {},
   "outputs": [],
   "source": [
    "cols_to_select = ['officeType','types','period', 'year','partyName','partyCode','partyLocationRegion', \n",
    "                  'party_main_name','party_main_EDRPOU','report_id']\n",
    "\n",
    "main_var = 'propertyObjects'\n",
    "\n",
    "filename = '3.1_property_objects'"
   ]
  },
  {
   "cell_type": "code",
   "execution_count": 24,
   "metadata": {},
   "outputs": [],
   "source": [
    "table = subset_table(r_df, main_var, cols_to_select)\n",
    "\n",
    "if len(table) > 0:\n",
    "    t = list_to_rows(table, main_var, cols_to_select, renamer_4)\n",
    "    t = t[list(renamer_4.values())+['party_main_name','party_main_EDRPOU','report_id']]\n",
    "\n",
    "    # delete empty\n",
    "    t = t[t.object_type.notna()]\n",
    "\n",
    "    # Для центральних офісів політичних партій legal_entity_region –> “Україна”\n",
    "    t.loc[t.officeType == 'Центральний офіс', 'legal_entity_region'] = 'Україна'\n",
    "\n",
    "    # clean t['object_owner_name']\n",
    "\n",
    "    if len(t.object_owner_name.unique()) > 1:\n",
    "\n",
    "        t['object_owner_name'] = t['object_owner_name'].str.upper()\n",
    "        t['object_owner_name'] = t['object_owner_name'].str.replace('\\s+',' ', regex=True).str.strip()\n",
    "\n",
    "        # уніфікувати ФОП, ТОВ і ПАТ\n",
    "        org_name_clean(t, 'object_owner_name')\n",
    "\n",
    "        # уніфікувати апострофи в іменах\n",
    "        t['object_owner_name'] = t['object_owner_name'].replace(r\"(?<=\\w)[’\\\"\\`](?=\\w)\", \"\\'\", regex=True)\n",
    "\n",
    "        # replace ocassional english letters\n",
    "        t.loc[t['object_owner_name'].str.contains('[А-Я]', na=False),'object_owner_name'] = t.loc[t['object_owner_name'].str.contains('[А-Я]', na=False),'object_owner_name'].str.replace('C','С').str.replace('I','І')\n",
    "\n",
    "        save_as_excel(t, filename, full_update)"
   ]
  },
  {
   "cell_type": "markdown",
   "metadata": {},
   "source": [
    "### Таблиця 5: зведена інформація про рухоме майно політичної партії (propertyMovables)"
   ]
  },
  {
   "cell_type": "code",
   "execution_count": 25,
   "metadata": {},
   "outputs": [],
   "source": [
    "cols_to_select = ['officeType','types','period', 'year','partyName','partyCode', 'partyLocationRegion', \n",
    "                  'party_main_name','party_main_EDRPOU','report_id']\n",
    "\n",
    "main_var = 'propertyMovables'\n",
    "\n",
    "filename = '3.2_movable_property'"
   ]
  },
  {
   "cell_type": "code",
   "execution_count": 26,
   "metadata": {},
   "outputs": [],
   "source": [
    "table = subset_table(r_df, main_var, cols_to_select)\n",
    "\n",
    "if len(table) > 0:\n",
    "    t = list_to_rows(table, main_var, cols_to_select, renamer_5)\n",
    "    \n",
    "    # Для центральних офісів політичних партій legal_entity_region –> “Україна”\n",
    "    t.loc[t.officeType == 'Центральний офіс', 'legal_entity_region'] = 'Україна'\n",
    "\n",
    "    # sort columns\n",
    "    sorter = [x for x in list(renamer_5.values())+['party_main_name','party_main_EDRPOU','report_id']  if x in t.columns]\n",
    "    t = t[sorter]\n",
    "\n",
    "    # clean t['object_owner_name']\n",
    "    var_to_clean = 'object_owner'\n",
    "\n",
    "    t[var_to_clean] = t[var_to_clean].str.upper()\n",
    "    t[var_to_clean] = t[var_to_clean].str.replace('\\s+',' ', regex=True).str.strip()\n",
    "\n",
    "    # уніфікувати ФОП, ТОВ і ПАТ\n",
    "    org_name_clean(t, var_to_clean)\n",
    "\n",
    "    # уніфікувати апострофи в іменах\n",
    "    t[var_to_clean] = t[var_to_clean].replace(r\"(?<=\\w)[’\\\"\\`](?=\\w)\", \"\\'\", regex=True)\n",
    "\n",
    "    # replace ocassional english letters\n",
    "    t.loc[t[var_to_clean].str.contains('[А-Я]', na=False),var_to_clean] = t.loc[t[var_to_clean].str.contains('[А-Я]', na=False),var_to_clean].str.replace('C','С').str.replace('I','І')\n",
    "\n",
    "    save_as_excel(t, filename, full_update)\n"
   ]
  },
  {
   "cell_type": "markdown",
   "metadata": {},
   "source": [
    "### Таблиця 6: зведена інформація про автотранспорт політичної партії (propertyTransport)"
   ]
  },
  {
   "cell_type": "code",
   "execution_count": 27,
   "metadata": {},
   "outputs": [],
   "source": [
    "cols_to_select = ['officeType','types','period', 'year','partyName','partyCode', 'partyLocationRegion', \n",
    "                  'party_main_name','party_main_EDRPOU','report_id']\n",
    "\n",
    "main_var = 'propertyTransport'\n",
    "\n",
    "filename = '3.3_vehicles'"
   ]
  },
  {
   "cell_type": "code",
   "execution_count": 28,
   "metadata": {},
   "outputs": [],
   "source": [
    "table = subset_table(r_df, main_var, cols_to_select)\n",
    "\n",
    "if len(table) > 0:\n",
    "\n",
    "    t = list_to_rows(table, main_var, cols_to_select, renamer_6)\n",
    "\n",
    "    # sort columns\n",
    "    sorter = [x for x in list(renamer_6.values())+['party_main_name','party_main_EDRPOU','report_id']  if x in t.columns]\n",
    "    t = t[sorter]\n",
    "\n",
    "    # Для центральних офісів політичних партій legal_entity_region –> “Україна”\n",
    "    t.loc[t.officeType == 'Центральний офіс', 'legal_entity_region'] = 'Україна'\n",
    "\n",
    "    # delete empty\n",
    "    t = t[(t.object_type.notna())&(t.object_brand.notna())]\n",
    "\n",
    "    # Якщо object_owner_edrpou це код партії чи осередку то у object_owner_type ставити “Партійний осередок”\n",
    "    t = check_edrpou_for_party(t, 'object_owner_edrpou', 'object_owner_type')\n",
    "\n",
    "    # clean t['object_owner']\n",
    "    var_to_clean = 'object_owner'\n",
    "    t[var_to_clean] = t[var_to_clean].str.upper()\n",
    "    t[var_to_clean] = t[var_to_clean].str.replace('\\s+',' ', regex=True).str.strip()\n",
    "\n",
    "    # уніфікувати ФОП, ТОВ і ПАТ\n",
    "    org_name_clean(t, var_to_clean)\n",
    "\n",
    "    # уніфікувати апострофи в іменах\n",
    "    t[var_to_clean] = t[var_to_clean].replace(r\"(?<=\\w)[’\\\"\\`](?=\\w)\", \"\\'\", regex=True)\n",
    "\n",
    "    # replace ocassional english letters\n",
    "    t.loc[t[var_to_clean].str.contains('[А-Я]', na=False),var_to_clean] = t.loc[t[var_to_clean].str.contains('[А-Я]', na=False),var_to_clean].str.replace('C','С').str.replace('I','І')\n",
    "\n",
    "    save_as_excel(t, filename, full_update)\n"
   ]
  },
  {
   "cell_type": "markdown",
   "metadata": {},
   "source": [
    "### Таблиця 7: зведена інформація про цінні папери політичної партії (propertyPapers)"
   ]
  },
  {
   "cell_type": "code",
   "execution_count": 29,
   "metadata": {},
   "outputs": [],
   "source": [
    "cols_to_select = ['officeType','types','period', 'year','partyName','partyCode', 'partyLocationRegion',\n",
    "                  'party_main_name','party_main_EDRPOU','report_id']\n",
    "\n",
    "main_var = 'propertyPapers'\n",
    "\n",
    "filename = '3.4_securities'"
   ]
  },
  {
   "cell_type": "code",
   "execution_count": 30,
   "metadata": {},
   "outputs": [],
   "source": [
    "table = subset_table(r_df, main_var, cols_to_select)\n",
    "\n",
    "if len(table) > 0:\n",
    "    t = list_to_rows(table, main_var, cols_to_select, renamer_7)\n",
    "\n",
    "    if len(t) > 0:\n",
    "        # sort columns\n",
    "        sorter = [x for x in list(renamer_7.values())+['party_main_name','party_main_EDRPOU','report_id']  if x in t.columns]\n",
    "        t = t[sorter]\n",
    "\n",
    "        # Для центральних офісів політичних партій legal_entity_region –> “Україна”\n",
    "        t.loc[t.officeType == 'Центральний офіс', 'legal_entity_region'] = 'Україна'\n",
    "\n",
    "        # save\n",
    "        save_as_excel(t, filename, full_update)\n",
    "\n",
    "\n",
    "    elif len(t) == 0:\n",
    "        # create columns if t is empty\n",
    "        t = pd.DataFrame(columns=list(renamer_7.values())+['party_main_name','party_main_EDRPOU','report_id'])\n",
    "        save_as_excel(t, filename, full_update)\n",
    "\n",
    "else:\n",
    "    # create columns if table is empty\n",
    "    t = pd.DataFrame(columns=list(renamer_7.values())+['party_main_name','party_main_EDRPOU','report_id'])\n",
    "    save_as_excel(t, filename, full_update)\n",
    "    \n",
    "    \n",
    "    "
   ]
  },
  {
   "cell_type": "markdown",
   "metadata": {},
   "source": [
    "### Таблиця 8: зведена інформація про інше майно та нематеріальні активи політичної партії (propertyNoMoney)"
   ]
  },
  {
   "cell_type": "code",
   "execution_count": 31,
   "metadata": {},
   "outputs": [],
   "source": [
    "cols_to_select = ['officeType','types','period', 'year','partyName','partyCode', 'partyLocationRegion', \n",
    "                  'party_main_name','party_main_EDRPOU','report_id']\n",
    "\n",
    "main_var = 'propertyNoMoney'\n",
    "\n",
    "filename = '3.5_intangible_assets'"
   ]
  },
  {
   "cell_type": "code",
   "execution_count": 32,
   "metadata": {},
   "outputs": [],
   "source": [
    "table = subset_table(r_df, main_var, cols_to_select)\n",
    "if len(table) > 0:\n",
    "\n",
    "    t = list_to_rows(table, main_var, cols_to_select, renamer_8)\n",
    "\n",
    "    # Для центральних офісів політичних партій legal_entity_region –> “Україна”\n",
    "    t.loc[t.officeType == 'Центральний офіс', 'legal_entity_region'] = 'Україна'\n",
    "\n",
    "    save_as_excel(t, filename, full_update)"
   ]
  },
  {
   "cell_type": "markdown",
   "metadata": {},
   "source": [
    "### Таблиця 9: зведена інформація про банківські рахунки політичної партії (propertyMoney)"
   ]
  },
  {
   "cell_type": "code",
   "execution_count": 33,
   "metadata": {},
   "outputs": [],
   "source": [
    "cols_to_select = ['officeType','types','period', 'year','partyName','partyCode', 'partyLocationRegion', \n",
    "                  'party_main_name','party_main_EDRPOU','report_id']\n",
    "\n",
    "main_var = 'propertyMoney'\n",
    "\n",
    "filename = '4_bank_accounts'"
   ]
  },
  {
   "cell_type": "code",
   "execution_count": 34,
   "metadata": {},
   "outputs": [],
   "source": [
    "table = subset_table(r_df, main_var, cols_to_select)\n",
    "\n",
    "if len(table) > 0:\n",
    "\n",
    "    t = list_to_rows(table, main_var, cols_to_select, renamer_9)\n",
    "\n",
    "    t['account_number'] = clean_bank_account(t['account_number'])\n",
    "\n",
    "    # check if any are longer than 29\n",
    "    t['account_number'].apply(lambda x: len(x)).value_counts()\n",
    "\n",
    "    # t[t.account_number.apply(lambda x: len(x)>29)]\n",
    "\n",
    "    # Для центральних офісів політичних партій legal_entity_region –> “Україна”\n",
    "    t.loc[t.officeType == 'Центральний офіс', 'legal_entity_region'] = 'Україна'\n",
    "\n",
    "    save_as_excel(t, filename, full_update)\n"
   ]
  },
  {
   "cell_type": "markdown",
   "metadata": {},
   "source": [
    "### Таблиця 10: зведена інформація про приватні грошові внески на рахунки політичної партії (contributionConMoney)  "
   ]
  },
  {
   "cell_type": "code",
   "execution_count": 35,
   "metadata": {},
   "outputs": [],
   "source": [
    "cols_to_select = ['officeType','types','period', 'year','partyName','partyCode', 'party_main_name','party_main_EDRPOU',\n",
    "                  'partyLocationRegion','report_id']\n",
    "\n",
    "main_var = 'contributionConMoney'\n",
    "\n",
    "filename = '5_private_contributions'"
   ]
  },
  {
   "cell_type": "code",
   "execution_count": 36,
   "metadata": {},
   "outputs": [],
   "source": [
    "table = subset_table(r_df, main_var, cols_to_select)\n",
    "if len(table) > 0:\n",
    "    t = list_to_rows(table, main_var, cols_to_select, renamer_10)\n",
    "\n",
    "    # delete empty\n",
    "    t = t[(t.donor_name.notna())&(t.bank_edrpou.notna())]\n",
    "\n",
    "    # clean bank_account\n",
    "    t['bank_account'] = clean_bank_account(t['bank_account'])\n",
    "\n",
    "    # Якщо серед донорів зустрічаються партійні осередки чи центральний офіс політичної партії 'donor_type' замінити на “партійний осередок” (визначила по 'donor_edrpou')\n",
    "    t = check_edrpou_for_party(t, 'donor_edrpou', 'donor_type')\n",
    "\n",
    "    # Для центральних офісів політичних партій legal_entity_region –> “Україна”\n",
    "    t.loc[t.officeType == 'Центральний офіс', 'legal_entity_region'] = 'Україна'\n",
    "\n",
    "    # sort columns\n",
    "    t = t[list(renamer_10.values())+['party_main_name','party_main_EDRPOU','report_id']]\n",
    "\n",
    "    # clean t['donor_name']\n",
    "    var_to_clean = 'donor_name'\n",
    "\n",
    "    t[var_to_clean] = t[var_to_clean].str.upper()\n",
    "    t[var_to_clean] = t[var_to_clean].str.replace('\\s+',' ', regex=True).str.strip()\n",
    "\n",
    "    # уніфікувати ФОП, ТОВ і ПАТ\n",
    "    org_name_clean(t, var_to_clean)\n",
    "\n",
    "    # уніфікувати апострофи в іменах\n",
    "    t[var_to_clean] = t[var_to_clean].replace(r\"(?<=\\w)[’\\\"\\`](?=\\w)\", \"\\'\", regex=True)\n",
    "\n",
    "    # replace ocassional english letters\n",
    "    t.loc[t[var_to_clean].str.contains('[А-Я]', na=False),var_to_clean] = t.loc[t[var_to_clean].str.contains('[А-Я]', na=False),var_to_clean].str.replace('C','С').str.replace('I','І')\n",
    "\n",
    "    save_as_excel(t, filename, full_update)"
   ]
  },
  {
   "cell_type": "markdown",
   "metadata": {},
   "source": [
    "### Таблиця 11: зведена інформація про негрошові внески на користь політичної партії (contributionOtherCon)"
   ]
  },
  {
   "cell_type": "code",
   "execution_count": 37,
   "metadata": {},
   "outputs": [],
   "source": [
    "\n",
    "cols_to_select = ['officeType','types','period', 'year','partyName','partyCode', 'party_main_name','party_main_EDRPOU','partyLocationRegion','report_id']\n",
    "\n",
    "main_var = 'contributionOtherCon'\n",
    "\n",
    "filename = '6_in_kind_donations'"
   ]
  },
  {
   "cell_type": "code",
   "execution_count": 38,
   "metadata": {},
   "outputs": [],
   "source": [
    "table = subset_table(r_df, main_var, cols_to_select)\n",
    "if len(table) > 0:\n",
    "\n",
    "    t = list_to_rows(table, main_var, cols_to_select, renamer_11)\n",
    "\n",
    "    # delete empty\n",
    "    t = t[(t.donor_name.notna())&(t.donor_type.notna())]\n",
    "\n",
    "    # Якщо серед донорів зустрічаються партійні осередки чи центральний офіс політичної партії 'donor_type' замінила на “партійний осередок” (визначила по 'donor_edrpou')\n",
    "\n",
    "    t.loc[(t.donor_edrpou.isin(party_list.code.tolist()))|\n",
    "        (t.donor_edrpou.isin(party_region_list.local_org_EDRPOU.tolist())), \n",
    "        'donor_type'] = 'Партійний осередок'\n",
    "\n",
    "    # donor_edrpou delete *\n",
    "    t.loc[t.donor_edrpou.str.contains('\\*',na=False),'donor_edrpou'] = None\n",
    "    t.loc[t.donor_birth_date.str.contains('\\*',na=False),'donor_birth_date'] = None\n",
    "    t.loc[t.object_registration_number.str.contains('\\*',na=False),'object_registration_number'] = None\n",
    "\n",
    "    # Для центральних офісів політичних партій legal_entity_region –> “Україна”\n",
    "\n",
    "    t.loc[t.officeType == 'Центральний офіс', 'legal_entity_region'] = 'Україна'\n",
    "\n",
    "    # clean t['donor_name']\n",
    "    var_to_clean = 'donor_name'\n",
    "\n",
    "    t[var_to_clean] = t[var_to_clean].str.upper()\n",
    "    t[var_to_clean] = t[var_to_clean].str.replace('\\s+',' ', regex=True).str.strip()\n",
    "\n",
    "    # уніфікувати ФОП, ТОВ і ПАТ\n",
    "    org_name_clean(t, var_to_clean)\n",
    "\n",
    "    # уніфікувати апострофи в іменах\n",
    "    t[var_to_clean] = t[var_to_clean].replace(r\"(?<=\\w)[’\\\"\\`](?=\\w)\", \"\\'\", regex=True)\n",
    "\n",
    "    # replace ocassional english letters\n",
    "    t.loc[t[var_to_clean].str.contains('[А-Я]', na=False),var_to_clean] = t.loc[t[var_to_clean].str.contains('[А-Я]', na=False),var_to_clean].str.replace('C','С').str.replace('I','І')\n",
    "\n",
    "    save_as_excel(t, filename, full_update)"
   ]
  },
  {
   "cell_type": "markdown",
   "metadata": {},
   "source": [
    "### Таблиця 12: зведена інформація про кошти державного фінансування виплачені політичним партіям (contributionCosts)\n",
    "Завдання: об'єднати всі дані щодо коштів державного фінансування отриманих\n",
    "партіями. Також, потрібно почистити costs3/bank_account (пробіли, зайві символи).  \n",
    "  \n",
    "Назва файлу: 7_state_funding_transactions"
   ]
  },
  {
   "cell_type": "code",
   "execution_count": 39,
   "metadata": {},
   "outputs": [],
   "source": [
    "cols_to_select = ['officeType','types','period', 'year','partyName','partyCode', 'party_main_name','party_main_EDRPOU','report_id']\n",
    "\n",
    "main_var = 'contributionCosts'\n",
    "\n",
    "filename = '7_state_funding_transactions'"
   ]
  },
  {
   "cell_type": "code",
   "execution_count": 40,
   "metadata": {},
   "outputs": [],
   "source": [
    "table = subset_table(r_df, main_var, cols_to_select)\n",
    "if len(table) > 0:\n",
    "    t = list_to_rows(table, main_var, cols_to_select, renamer_12)\n",
    "\n",
    "    # convert refund_sum to numeric\n",
    "    t['transaction_sum'] = t['transaction_sum'].astype(int)\n",
    "\n",
    "    t['bank_account'] = clean_bank_account(t['bank_account'])\n",
    "\n",
    "    # sort columns\n",
    "    t = t[list(renamer_12.values()) + ['party_main_name','party_main_EDRPOU','report_id']]\n",
    "\n",
    "    save_as_excel(t, filename, full_update)"
   ]
  },
  {
   "cell_type": "markdown",
   "metadata": {},
   "source": [
    "### Таблиця 13: зведена інформація про інші грошові надходження на рахунки політичних партій (contributionOtherCosts)"
   ]
  },
  {
   "cell_type": "code",
   "execution_count": 41,
   "metadata": {},
   "outputs": [],
   "source": [
    "cols_to_select = ['officeType','types','period', 'year','partyName','partyCode', 'partyLocationRegion',\n",
    "                  'party_main_name','party_main_EDRPOU','report_id']\n",
    "\n",
    "main_var = 'contributionOtherCosts'\n",
    "\n",
    "filename = '8_other_income'"
   ]
  },
  {
   "cell_type": "code",
   "execution_count": 42,
   "metadata": {},
   "outputs": [],
   "source": [
    "table = subset_table(r_df, main_var, cols_to_select)\n",
    "if len(table) > 0:\n",
    "\n",
    "    t = list_to_rows(table, main_var, cols_to_select, renamer_13)\n",
    "    t['bank_account'] = clean_bank_account(t['bank_account'])\n",
    "\n",
    "    # Для центральних офісів політичних партій legal_entity_region –> “Україна”\n",
    "    t.loc[t.officeType == 'Центральний офіс', 'legal_entity_region'] = 'Україна'\n",
    "\n",
    "    # clean t['sender_name']\n",
    "    var_to_clean = 'sender_name'\n",
    "\n",
    "    t[var_to_clean] = t[var_to_clean].str.upper()\n",
    "    t[var_to_clean] = t[var_to_clean].str.replace('\\s+',' ', regex=True).str.strip()\n",
    "\n",
    "    # уніфікувати ФОП, ТОВ і ПАТ\n",
    "    org_name_clean(t, var_to_clean)\n",
    "\n",
    "    # уніфікувати апострофи в іменах\n",
    "    t[var_to_clean] = t[var_to_clean].replace(r\"(?<=\\w)[’\\\"\\`](?=\\w)\", \"\\'\", regex=True)\n",
    "\n",
    "    # replace ocassional english letters\n",
    "    t.loc[t[var_to_clean].str.contains('[А-Я]', na=False),var_to_clean] = t.loc[t[var_to_clean].str.contains('[А-Я]', na=False),var_to_clean].str.replace('C','С').str.replace('I','І')\n",
    "\n",
    "    save_as_excel(t, filename, full_update)"
   ]
  },
  {
   "cell_type": "markdown",
   "metadata": {},
   "source": [
    "### Таблиця 14: зведена інформація про витрати державного фінансування політичних партій (paymentGov)"
   ]
  },
  {
   "cell_type": "code",
   "execution_count": 43,
   "metadata": {},
   "outputs": [],
   "source": [
    "cols_to_select = ['officeType','types','period', 'year','partyName','partyCode', 'party_main_name','party_main_EDRPOU',\n",
    "                  'partyLocationRegion','report_id']\n",
    "\n",
    "main_var = 'paymentGov'\n",
    "\n",
    "filename = '9.1_expenditures_public_funding'"
   ]
  },
  {
   "cell_type": "code",
   "execution_count": 44,
   "metadata": {},
   "outputs": [],
   "source": [
    "table = subset_table(r_df, main_var, cols_to_select)\n",
    "if len(table) > 0:\n",
    "\n",
    "    t = list_to_rows(table, main_var, cols_to_select, renamer_14)\n",
    "\n",
    "    t['account_number'] = clean_bank_account(t['account_number'])\n",
    "\n",
    "    # Для центральних офісів політичних партій legal_entity_region –> “Україна”\n",
    "    t.loc[t.officeType == 'Центральний офіс', 'legal_entity_region'] = 'Україна'\n",
    "\n",
    "    # Якщо отримувач коштів є партійною структурою (recipient_EDRPOU), у recipient_type замінити позначку “Юридична особа/Фізична особа” на Партійний осередок.\n",
    "    t = check_edrpou_for_party(t, 'recipient_EDRPOU', 'recipient_type')\n",
    "\n",
    "    # clean t['recipient_name']\n",
    "    var_to_clean = 'recipient_name'\n",
    "    t[var_to_clean] = t[var_to_clean].str.upper()\n",
    "    t[var_to_clean] = t[var_to_clean].str.replace('\\s+',' ', regex=True).str.strip()\n",
    "\n",
    "    # уніфікувати ФОП, ТОВ і ПАТ\n",
    "    org_name_clean(t, var_to_clean)\n",
    "\n",
    "    # уніфікувати апострофи в іменах\n",
    "    t[var_to_clean] = t[var_to_clean].replace(r\"(?<=\\w)[’\\\"\\`](?=\\w)\", \"\\'\", regex=True)\n",
    "\n",
    "    # replace ocassional english letters\n",
    "    t.loc[t[var_to_clean].str.contains('[А-Я]', na=False),var_to_clean] = t.loc[t[var_to_clean].str.contains('[А-Я]', na=False),var_to_clean].str.replace('C','С').str.replace('I','І')\n",
    "\n",
    "    save_as_excel(t, filename, full_update)"
   ]
  },
  {
   "cell_type": "markdown",
   "metadata": {},
   "source": [
    "### Таблиця 15: зведена інформація про витрати з рахунків з приватним фінансуванням (paymentOther)"
   ]
  },
  {
   "cell_type": "code",
   "execution_count": 45,
   "metadata": {},
   "outputs": [],
   "source": [
    "cols_to_select = ['officeType','types','period', 'year','partyName','partyCode', 'party_main_name','party_main_EDRPOU','partyLocationRegion','report_id']\n",
    "\n",
    "main_var = 'paymentOther'\n",
    "\n",
    "filename = '9.2_expenditures_private_funds'"
   ]
  },
  {
   "cell_type": "code",
   "execution_count": 46,
   "metadata": {},
   "outputs": [],
   "source": [
    "table = subset_table(r_df, main_var, cols_to_select)\n",
    "if len(table) > 0:\n",
    "\n",
    "    t = list_to_rows(table, main_var, cols_to_select, renamer_15)\n",
    "\n",
    "    t['account_number'] = clean_bank_account(t['account_number'])\n",
    "\n",
    "    # Для центральних офісів політичних партій legal_entity_region –> “Україна”\n",
    "    t.loc[t.officeType == 'Центральний офіс', 'legal_entity_region'] = 'Україна'\n",
    "\n",
    "    # Якщо отримувач коштів є партійною структурою (recipient_EDRPOU), у recipient_type замінити позначку “Юридична особа/Фізична особа” на Партійний осередок.\n",
    "    t = check_edrpou_for_party(t, 'recipient_EDRPOU', 'recipient_type')\n",
    "\n",
    "    # delete empty\n",
    "    t = t[(t.bank_EDRPOU.notna())&(t.account_number.notna())]\n",
    "\n",
    "    # clean t['recipient_name']\n",
    "    var_to_clean = 'recipient_name'\n",
    "    t[var_to_clean] = t[var_to_clean].str.upper()\n",
    "    t[var_to_clean] = t[var_to_clean].str.replace('\\s+',' ', regex=True).str.strip()\n",
    "\n",
    "    # уніфікувати ФОП, ТОВ і ПАТ\n",
    "    org_name_clean(t, var_to_clean)\n",
    "\n",
    "    # уніфікувати апострофи в іменах\n",
    "    t[var_to_clean] = t[var_to_clean].replace(r\"(?<=\\w)[’\\\"\\`](?=\\w)\", \"\\'\", regex=True)\n",
    "\n",
    "    # replace ocassional english letters\n",
    "    t.loc[t[var_to_clean].str.contains('[А-Я]', na=False),var_to_clean] = t.loc[t[var_to_clean].str.contains('[А-Я]', na=False),var_to_clean].str.replace('C','С').str.replace('I','І')\n",
    "\n",
    "    save_as_excel(t, filename, full_update)"
   ]
  },
  {
   "cell_type": "markdown",
   "metadata": {},
   "source": [
    "### Таблиця 16: зведена інформація про отримання помилкових надходжень (paymentCostsPaymentReceive)"
   ]
  },
  {
   "cell_type": "code",
   "execution_count": 47,
   "metadata": {},
   "outputs": [],
   "source": [
    "cols_to_select = ['officeType','types','period', 'year','partyName','partyCode', 'partyLocationRegion',\n",
    "                  'party_main_name','party_main_EDRPOU','report_id']\n",
    "\n",
    "main_var = 'paymentCostsPaymentReceive'\n",
    "\n",
    "filename = '9.3_false_donations_info'"
   ]
  },
  {
   "cell_type": "code",
   "execution_count": 48,
   "metadata": {},
   "outputs": [],
   "source": [
    "table = subset_table(r_df, main_var, cols_to_select)\n",
    "if len(table) > 0:\n",
    "\n",
    "    t = list_to_rows(table, main_var, cols_to_select, renamer_16)\n",
    "\n",
    "    t['account_number'] = clean_bank_account(t['account_number'])\n",
    "\n",
    "    # Для центральних офісів політичних партій legal_entity_region –> “Україна”\n",
    "    t.loc[t.officeType == 'Центральний офіс', 'legal_entity_region'] = 'Україна'\n",
    "\n",
    "    # clean t['donor_name']\n",
    "    var_to_clean = 'donor_name'\n",
    "    t[var_to_clean] = t[var_to_clean].str.upper()\n",
    "    t[var_to_clean] = t[var_to_clean].str.replace('\\s+',' ', regex=True).str.strip()\n",
    "\n",
    "    # уніфікувати ФОП, ТОВ і ПАТ\n",
    "    org_name_clean(t, var_to_clean)\n",
    "\n",
    "    # уніфікувати апострофи в іменах\n",
    "    t[var_to_clean] = t[var_to_clean].replace(r\"(?<=\\w)[’\\\"\\`](?=\\w)\", \"\\'\", regex=True)\n",
    "\n",
    "    # replace ocassional english letters\n",
    "    t.loc[t[var_to_clean].str.contains('[А-Я]', na=False),var_to_clean] = t.loc[t[var_to_clean].str.contains('[А-Я]', na=False),var_to_clean].str.replace('C','С').str.replace('I','І')\n",
    "\n",
    "    save_as_excel(t, filename, full_update)"
   ]
  },
  {
   "cell_type": "markdown",
   "metadata": {},
   "source": [
    "### НЕ ІСНУЄ Таблиця 17: інформація про повернення внесків та помилкових надходжень (paymentCostsPaymentReturn)\n",
    "Завдання: обєднати всю інформацію про повернення помилкових внесків.  \n",
    "  \n",
    "Назва файлу: 9.4_false_donations_returning"
   ]
  },
  {
   "cell_type": "code",
   "execution_count": 49,
   "metadata": {},
   "outputs": [],
   "source": [
    "cols_to_select = ['officeType','types','period', 'year','partyName','partyCode', 'party_main_name','party_main_EDRPOU','report_id']\n",
    "\n",
    "main_var = 'paymentCostsPaymentReturn'\n",
    "\n",
    "filename = '9.4_false_donations_returning'"
   ]
  },
  {
   "cell_type": "code",
   "execution_count": 50,
   "metadata": {},
   "outputs": [
    {
     "data": {
      "text/plain": [
       "False"
      ]
     },
     "execution_count": 50,
     "metadata": {},
     "output_type": "execute_result"
    }
   ],
   "source": [
    "main_var in r_df.columns"
   ]
  },
  {
   "cell_type": "markdown",
   "metadata": {},
   "source": [
    "### Таблиця 18: інформація про отримання помилкових інших (негрошових) внесків (paymentOtherCostsPaymentReceive)"
   ]
  },
  {
   "cell_type": "code",
   "execution_count": 51,
   "metadata": {},
   "outputs": [],
   "source": [
    "cols_to_select = ['officeType','types','period', 'year','partyName','partyCode', 'partyLocationRegion', \n",
    "                  'party_main_name','party_main_EDRPOU','report_id']\n",
    "\n",
    "main_var = 'paymentOtherCostsPaymentReceive'\n",
    "\n",
    "filename = '9.5_false_in_kind_donations_info'"
   ]
  },
  {
   "cell_type": "code",
   "execution_count": 52,
   "metadata": {},
   "outputs": [],
   "source": [
    "table = subset_table(r_df, main_var, cols_to_select)\n",
    "if len(table) > 0:\n",
    "    t = list_to_rows(table, main_var, cols_to_select, renamer_18)\n",
    "\n",
    "    if len(t) == 0:\n",
    "        # create columns if t is empty\n",
    "        t = pd.DataFrame(columns=list(renamer_18.values())+['party_main_name','party_main_EDRPOU','report_id'])\n",
    "        save_as_excel(t, filename, full_update)\n",
    "\n",
    "    else:\n",
    "        # sort columns\n",
    "        sorter = [x for x in list(renamer_18.values())+['party_main_name','party_main_EDRPOU','report_id']  if x in t.columns]\n",
    "        t = t[sorter]\n",
    "\n",
    "        # Для центральних офісів політичних партій legal_entity_region –> “Україна”\n",
    "        t.loc[t.officeType == 'Центральний офіс', 'legal_entity_region'] = 'Україна'\n",
    "\n",
    "        # clean t['recipient_name']\n",
    "\n",
    "        var_to_clean = 'onor_name'\n",
    "\n",
    "        t[var_to_clean] = t[var_to_clean].str.upper()\n",
    "        t[var_to_clean] = t[var_to_clean].str.replace('\\s+',' ', regex=True).str.strip()\n",
    "\n",
    "        # уніфікувати ФОП, ТОВ і ПАТ\n",
    "        org_name_clean(t, var_to_clean)\n",
    "\n",
    "        # уніфікувати апострофи в іменах\n",
    "        t[var_to_clean] = t[var_to_clean].replace(r\"(?<=\\w)[’\\\"\\`](?=\\w)\", \"\\'\", regex=True)\n",
    "\n",
    "        # replace ocassional english letters\n",
    "        t.loc[t[var_to_clean].str.contains('[А-Я]', na=False),var_to_clean] = t.loc[t[var_to_clean].str.contains('[А-Я]', na=False),var_to_clean].str.replace('C','С').str.replace('I','І')\n",
    "\n",
    "        # save\n",
    "        save_as_excel(t, filename, full_update)\n",
    "\n",
    "else:\n",
    "    # create t\n",
    "    t = pd.DataFrame(columns=list(renamer_18.values())+['party_main_name','party_main_EDRPOU','report_id'])\n",
    "    save_as_excel(t, filename, full_update)\n",
    "        "
   ]
  },
  {
   "cell_type": "markdown",
   "metadata": {},
   "source": [
    "### НЕ ІСНУЄ Таблиця 19: інформація про отримання помилкових інших (негрошових) внесків (paymentOtherCostsPaymentReturn)"
   ]
  },
  {
   "cell_type": "code",
   "execution_count": 53,
   "metadata": {},
   "outputs": [],
   "source": [
    "cols_to_select = ['officeType','types','period', 'year','partyName','partyCode', 'party_main_name','party_main_EDRPOU','report_id']\n",
    "\n",
    "main_var = 'paymentOtherCostsPaymentReturn'\n",
    "\n",
    "filename = '9.5_false_in_kind_donations_returning'"
   ]
  },
  {
   "cell_type": "code",
   "execution_count": 54,
   "metadata": {},
   "outputs": [
    {
     "data": {
      "text/plain": [
       "False"
      ]
     },
     "execution_count": 54,
     "metadata": {},
     "output_type": "execute_result"
    }
   ],
   "source": [
    "main_var in r_df.columns"
   ]
  },
  {
   "cell_type": "markdown",
   "metadata": {},
   "source": [
    "### Таблиця 20: інформація про фінансові зобов'язання (obligate)"
   ]
  },
  {
   "cell_type": "code",
   "execution_count": 55,
   "metadata": {},
   "outputs": [],
   "source": [
    "cols_to_select = ['officeType','types','period', 'year','partyName','partyCode', 'partyLocationRegion',\n",
    "                  'party_main_name','party_main_EDRPOU','report_id']\n",
    "\n",
    "main_var = 'obligate'\n",
    "\n",
    "filename = '10_liabilities'"
   ]
  },
  {
   "cell_type": "code",
   "execution_count": 56,
   "metadata": {},
   "outputs": [],
   "source": [
    "table = subset_table(r_df, main_var, cols_to_select)\n",
    "if len(table) > 0:\n",
    "    t = list_to_rows(table, main_var, cols_to_select, renamer_20)\n",
    "\n",
    "    # Для центральних офісів політичних партій legal_entity_region –> “Україна”\n",
    "    t.loc[t.officeType == 'Центральний офіс', 'legal_entity_region'] = 'Україна'\n",
    "\n",
    "    # delete empty\n",
    "    t = t[t.name.notnull()]\n",
    "\n",
    "    # clean t['name']\n",
    "    var_to_clean = 'name'\n",
    "    t[var_to_clean] = t[var_to_clean].str.upper()\n",
    "    t[var_to_clean] = t[var_to_clean].str.replace('\\s+',' ', regex=True).str.strip()\n",
    "\n",
    "    # уніфікувати ФОП, ТОВ і ПАТ\n",
    "    org_name_clean(t, var_to_clean)\n",
    "\n",
    "    # уніфікувати апострофи в іменах\n",
    "    t[var_to_clean] = t[var_to_clean].replace(r\"(?<=\\w)[’\\\"\\`](?=\\w)\", \"\\'\", regex=True)\n",
    "\n",
    "    # replace ocassional english letters\n",
    "    t.loc[t[var_to_clean].str.contains('[А-Я]', na=False),var_to_clean] = t.loc[t[var_to_clean].str.contains('[А-Я]', na=False),var_to_clean].str.replace('C','С').str.replace('I','І')\n",
    "\n",
    "    save_as_excel(t, filename, full_update)\n"
   ]
  },
  {
   "cell_type": "markdown",
   "metadata": {},
   "source": [
    "## Перевірити в яких файлах є які партії"
   ]
  },
  {
   "cell_type": "code",
   "execution_count": 71,
   "metadata": {},
   "outputs": [
    {
     "data": {
      "text/html": [
       "<div>\n",
       "<style scoped>\n",
       "    .dataframe tbody tr th:only-of-type {\n",
       "        vertical-align: middle;\n",
       "    }\n",
       "\n",
       "    .dataframe tbody tr th {\n",
       "        vertical-align: top;\n",
       "    }\n",
       "\n",
       "    .dataframe thead th {\n",
       "        text-align: right;\n",
       "    }\n",
       "</style>\n",
       "<table border=\"1\" class=\"dataframe\">\n",
       "  <thead>\n",
       "    <tr style=\"text-align: right;\">\n",
       "      <th></th>\n",
       "      <th>legal_entity_name</th>\n",
       "      <th>legal_entity_edrpou</th>\n",
       "      <th>officeType</th>\n",
       "      <th>party_main_name</th>\n",
       "      <th>party_main_EDRPOU</th>\n",
       "    </tr>\n",
       "  </thead>\n",
       "  <tbody>\n",
       "    <tr>\n",
       "      <th>0</th>\n",
       "      <td>ПОЛІТИЧНА ПАРТІЯ «ІДЕЯ НАЦІЇ»</td>\n",
       "      <td>43724237</td>\n",
       "      <td>Центральний офіс</td>\n",
       "      <td>ІДЕЯ НАЦІЇ</td>\n",
       "      <td>43724237</td>\n",
       "    </tr>\n",
       "    <tr>\n",
       "      <th>1</th>\n",
       "      <td>ПОЛІТИЧНА ПАРТІЯ «ПРОГРЕСИВНА СОЦІАЛІСТИЧНА ПАРТІЯ УКРАЇНИ»</td>\n",
       "      <td>13497</td>\n",
       "      <td>Центральний офіс</td>\n",
       "      <td>ПРОГРЕСИВНА СОЦІАЛІСТИЧНА ПАРТІЯ УКРАЇНИ</td>\n",
       "      <td>13497</td>\n",
       "    </tr>\n",
       "    <tr>\n",
       "      <th>2</th>\n",
       "      <td>ПОЛІТИЧНА ПАРТІЯ «ПАТРІОТИЧНА ПАРТІЯ УКРАЇНИ»</td>\n",
       "      <td>21676167</td>\n",
       "      <td>Центральний офіс</td>\n",
       "      <td>ПАТРІОТИЧНА ПАРТІЯ УКРАЇНИ</td>\n",
       "      <td>21676167</td>\n",
       "    </tr>\n",
       "    <tr>\n",
       "      <th>3</th>\n",
       "      <td>ПОЛІТИЧНА ПАРТІЯ «ЗА ОДЕЩИНУ»</td>\n",
       "      <td>40212900</td>\n",
       "      <td>Центральний офіс</td>\n",
       "      <td>ЗА ОДЕЩИНУ</td>\n",
       "      <td>40212900</td>\n",
       "    </tr>\n",
       "    <tr>\n",
       "      <th>4</th>\n",
       "      <td>ПОЛІТИЧНА ПАРТІЯ «ВАРТА (ВСЕУКРАЇНСЬКИЙ АЛЬЯНС РЕГІОНАЛЬНИХ І ТЕРИТОРІАЛЬНИХ АКТИВІСТІВ)»</td>\n",
       "      <td>43648015</td>\n",
       "      <td>Центральний офіс</td>\n",
       "      <td>ВАРТА (ВСЕУКРАЇНСЬКИЙ АЛЬЯНС РЕГІОНАЛЬНИХ І ТЕРИТОРІАЛЬНИХ АКТИВІСТІВ)</td>\n",
       "      <td>43648015</td>\n",
       "    </tr>\n",
       "    <tr>\n",
       "      <th>...</th>\n",
       "      <td>...</td>\n",
       "      <td>...</td>\n",
       "      <td>...</td>\n",
       "      <td>...</td>\n",
       "      <td>...</td>\n",
       "    </tr>\n",
       "    <tr>\n",
       "      <th>13422</th>\n",
       "      <td>ЧОПСЬКОЇ МІСЬКОЇ ОРГАНІЗАЦІЇ ПОЛІТИЧНОЇ ПАРТІЇ «НАРОДНО- ТРУДОВИЙ СОЮЗ УКРАЇНИ»</td>\n",
       "      <td>38273440</td>\n",
       "      <td>Регіональний офіс</td>\n",
       "      <td>НАРОДНО-ТРУДОВИЙ СОЮЗ УКРАЇНИ</td>\n",
       "      <td>34349353</td>\n",
       "    </tr>\n",
       "    <tr>\n",
       "      <th>13670</th>\n",
       "      <td>Мелітопольська міська організація Партії Зелених України</td>\n",
       "      <td>25891371</td>\n",
       "      <td>Регіональний офіс</td>\n",
       "      <td>ПАРТІЯ ЗЕЛЕНИХ УКРАЇНИ</td>\n",
       "      <td>47728</td>\n",
       "    </tr>\n",
       "    <tr>\n",
       "      <th>14586</th>\n",
       "      <td>ПОЛІТИЧНА ПАРТІЯ «НАРОДНО-ДЕМОКРАТИЧНА ПАРТІЯ (НДП)»</td>\n",
       "      <td>13267</td>\n",
       "      <td>Центральний офіс</td>\n",
       "      <td>НАРОДНО-ДЕМОКРАТИЧНА ПАРТІЯ (НДП)</td>\n",
       "      <td>13267</td>\n",
       "    </tr>\n",
       "    <tr>\n",
       "      <th>14591</th>\n",
       "      <td>Політична партія Дніпропетровська обласна огранізація політичної партії \"Разом Сила\"</td>\n",
       "      <td>44254310</td>\n",
       "      <td>Регіональний офіс</td>\n",
       "      <td>РАЗОМ СИЛА</td>\n",
       "      <td>40469495</td>\n",
       "    </tr>\n",
       "    <tr>\n",
       "      <th>14647</th>\n",
       "      <td>ПОЛІТИЧНА ПАРТІЯ «ЛІБЕРТАРІАНСЬКА ПАРТІЯ 5.10»</td>\n",
       "      <td>39169428</td>\n",
       "      <td>Центральний офіс</td>\n",
       "      <td>ЛІБЕРТАРІАНСЬКА ПАРТІЯ 5.10</td>\n",
       "      <td>39169428</td>\n",
       "    </tr>\n",
       "  </tbody>\n",
       "</table>\n",
       "<p>4466 rows × 5 columns</p>\n",
       "</div>"
      ],
      "text/plain": [
       "                                                                               legal_entity_name  \\\n",
       "0                                                                  ПОЛІТИЧНА ПАРТІЯ «ІДЕЯ НАЦІЇ»   \n",
       "1                                    ПОЛІТИЧНА ПАРТІЯ «ПРОГРЕСИВНА СОЦІАЛІСТИЧНА ПАРТІЯ УКРАЇНИ»   \n",
       "2                                                  ПОЛІТИЧНА ПАРТІЯ «ПАТРІОТИЧНА ПАРТІЯ УКРАЇНИ»   \n",
       "3                                                                  ПОЛІТИЧНА ПАРТІЯ «ЗА ОДЕЩИНУ»   \n",
       "4      ПОЛІТИЧНА ПАРТІЯ «ВАРТА (ВСЕУКРАЇНСЬКИЙ АЛЬЯНС РЕГІОНАЛЬНИХ І ТЕРИТОРІАЛЬНИХ АКТИВІСТІВ)»   \n",
       "...                                                                                          ...   \n",
       "13422            ЧОПСЬКОЇ МІСЬКОЇ ОРГАНІЗАЦІЇ ПОЛІТИЧНОЇ ПАРТІЇ «НАРОДНО- ТРУДОВИЙ СОЮЗ УКРАЇНИ»   \n",
       "13670                                   Мелітопольська міська організація Партії Зелених України   \n",
       "14586                                       ПОЛІТИЧНА ПАРТІЯ «НАРОДНО-ДЕМОКРАТИЧНА ПАРТІЯ (НДП)»   \n",
       "14591       Політична партія Дніпропетровська обласна огранізація політичної партії \"Разом Сила\"   \n",
       "14647                                             ПОЛІТИЧНА ПАРТІЯ «ЛІБЕРТАРІАНСЬКА ПАРТІЯ 5.10»   \n",
       "\n",
       "       legal_entity_edrpou         officeType  \\\n",
       "0                 43724237   Центральний офіс   \n",
       "1                    13497   Центральний офіс   \n",
       "2                 21676167   Центральний офіс   \n",
       "3                 40212900   Центральний офіс   \n",
       "4                 43648015   Центральний офіс   \n",
       "...                    ...                ...   \n",
       "13422             38273440  Регіональний офіс   \n",
       "13670             25891371  Регіональний офіс   \n",
       "14586                13267   Центральний офіс   \n",
       "14591             44254310  Регіональний офіс   \n",
       "14647             39169428   Центральний офіс   \n",
       "\n",
       "                                                              party_main_name  \\\n",
       "0                                                                  ІДЕЯ НАЦІЇ   \n",
       "1                                    ПРОГРЕСИВНА СОЦІАЛІСТИЧНА ПАРТІЯ УКРАЇНИ   \n",
       "2                                                  ПАТРІОТИЧНА ПАРТІЯ УКРАЇНИ   \n",
       "3                                                                  ЗА ОДЕЩИНУ   \n",
       "4      ВАРТА (ВСЕУКРАЇНСЬКИЙ АЛЬЯНС РЕГІОНАЛЬНИХ І ТЕРИТОРІАЛЬНИХ АКТИВІСТІВ)   \n",
       "...                                                                       ...   \n",
       "13422                                           НАРОДНО-ТРУДОВИЙ СОЮЗ УКРАЇНИ   \n",
       "13670                                                  ПАРТІЯ ЗЕЛЕНИХ УКРАЇНИ   \n",
       "14586                                       НАРОДНО-ДЕМОКРАТИЧНА ПАРТІЯ (НДП)   \n",
       "14591                                                              РАЗОМ СИЛА   \n",
       "14647                                             ЛІБЕРТАРІАНСЬКА ПАРТІЯ 5.10   \n",
       "\n",
       "       party_main_EDRPOU  \n",
       "0               43724237  \n",
       "1                  13497  \n",
       "2               21676167  \n",
       "3               40212900  \n",
       "4               43648015  \n",
       "...                  ...  \n",
       "13422           34349353  \n",
       "13670              47728  \n",
       "14586              13267  \n",
       "14591           40469495  \n",
       "14647           39169428  \n",
       "\n",
       "[4466 rows x 5 columns]"
      ]
     },
     "execution_count": 71,
     "metadata": {},
     "output_type": "execute_result"
    }
   ],
   "source": [
    "df = pd.read_excel('data/excel_tables/1_legal_entity_report_info.xlsx')[['legal_entity_name','legal_entity_edrpou','officeType','party_main_name','party_main_EDRPOU']]\n",
    "df = df.drop_duplicates()\n",
    "\n",
    "df"
   ]
  },
  {
   "cell_type": "code",
   "execution_count": 73,
   "metadata": {},
   "outputs": [
    {
     "data": {
      "text/plain": [
       "18"
      ]
     },
     "execution_count": 73,
     "metadata": {},
     "output_type": "execute_result"
    }
   ],
   "source": [
    "excel_files = os.listdir('data/excel_tables')\n",
    "excel_files = [x for x in excel_files if x.endswith('.xlsx') and not x.startswith('0_')]\n",
    "len(excel_files)"
   ]
  },
  {
   "cell_type": "code",
   "execution_count": 72,
   "metadata": {},
   "outputs": [],
   "source": []
  },
  {
   "cell_type": "code",
   "execution_count": null,
   "metadata": {},
   "outputs": [],
   "source": []
  },
  {
   "cell_type": "code",
   "execution_count": null,
   "metadata": {},
   "outputs": [],
   "source": []
  },
  {
   "cell_type": "code",
   "execution_count": null,
   "metadata": {},
   "outputs": [],
   "source": []
  },
  {
   "cell_type": "markdown",
   "metadata": {},
   "source": [
    "## Last updates"
   ]
  },
  {
   "cell_type": "code",
   "execution_count": 57,
   "metadata": {},
   "outputs": [],
   "source": [
    "# Додати в readme дату і час останнього оновлення\n",
    "\n",
    "now = datetime.now().strftime(\"%Y-%m-%d %H:%M\")\n",
    "\n",
    "with open('README.md', 'r') as file:\n",
    "    data = file.readlines()\n",
    "    data.append(f\"\\n\\nОстаннє оновлення: {now}\\n\")\n",
    "with open('README.md', 'w') as file:\n",
    "    file.writelines(data)"
   ]
  },
  {
   "cell_type": "code",
   "execution_count": 58,
   "metadata": {},
   "outputs": [
    {
     "name": "stdout",
     "output_type": "stream",
     "text": [
      "Done\n"
     ]
    }
   ],
   "source": [
    "print('Done')"
   ]
  },
  {
   "cell_type": "markdown",
   "metadata": {},
   "source": [
    "## Check quality of tables"
   ]
  },
  {
   "cell_type": "code",
   "execution_count": 64,
   "metadata": {},
   "outputs": [
    {
     "data": {
      "text/html": [
       "<div>\n",
       "<style scoped>\n",
       "    .dataframe tbody tr th:only-of-type {\n",
       "        vertical-align: middle;\n",
       "    }\n",
       "\n",
       "    .dataframe tbody tr th {\n",
       "        vertical-align: top;\n",
       "    }\n",
       "\n",
       "    .dataframe thead th {\n",
       "        text-align: right;\n",
       "    }\n",
       "</style>\n",
       "<table border=\"1\" class=\"dataframe\">\n",
       "  <thead>\n",
       "    <tr style=\"text-align: right;\">\n",
       "      <th></th>\n",
       "      <th>date</th>\n",
       "      <th>year</th>\n",
       "      <th>types</th>\n",
       "      <th>period</th>\n",
       "      <th>website</th>\n",
       "      <th>obligate</th>\n",
       "      <th>tablets1</th>\n",
       "      <th>tablets2</th>\n",
       "      <th>isWebsite</th>\n",
       "      <th>partyCode</th>\n",
       "      <th>partyName</th>\n",
       "      <th>documentId</th>\n",
       "      <th>officeType</th>\n",
       "      <th>paymentGov</th>\n",
       "      <th>headLastName</th>\n",
       "      <th>paymentOther</th>\n",
       "      <th>reportNumber</th>\n",
       "      <th>headFirstName</th>\n",
       "      <th>propertyMoney</th>\n",
       "      <th>quantityFirst</th>\n",
       "      <th>quantityThird</th>\n",
       "      <th>headMiddleName</th>\n",
       "      <th>propertyPapers</th>\n",
       "      <th>quantitySecond</th>\n",
       "      <th>signerFullName</th>\n",
       "      <th>paymentOtherSum</th>\n",
       "      <th>propertyNoMoney</th>\n",
       "      <th>propertyObjects</th>\n",
       "      <th>headLocationCity</th>\n",
       "      <th>propertyMovables</th>\n",
       "      <th>contributionCosts</th>\n",
       "      <th>partyLocationCity</th>\n",
       "      <th>propertyTransport</th>\n",
       "      <th>headLocationRegion</th>\n",
       "      <th>partyLocationIndex</th>\n",
       "      <th>headLocationCountry</th>\n",
       "      <th>partyIsLocationSame</th>\n",
       "      <th>partyLocationRegion</th>\n",
       "      <th>contributionConMoney</th>\n",
       "      <th>contributionOtherCon</th>\n",
       "      <th>partyLocationCountry</th>\n",
       "      <th>partyLocationBuilding</th>\n",
       "      <th>partyLocationDistrict</th>\n",
       "      <th>contributionOtherCosts</th>\n",
       "      <th>partyLocationCountryFact</th>\n",
       "      <th>paymentCostsPaymentReceive</th>\n",
       "      <th>paymentOtherCostsPaymentReceive</th>\n",
       "      <th>id</th>\n",
       "      <th>report_id</th>\n",
       "      <th>headLocationApt</th>\n",
       "      <th>partyLocationApt</th>\n",
       "      <th>partyLocationAptFact</th>\n",
       "      <th>partyLocationIndexFact</th>\n",
       "      <th>partyLocationKorpusFact</th>\n",
       "      <th>partyLocationRegionFact</th>\n",
       "      <th>partyLocationBuildingFact</th>\n",
       "      <th>partyLocationDistrictFact</th>\n",
       "      <th>partyLocationStreet</th>\n",
       "      <th>headIdNumber</th>\n",
       "      <th>headIdIssurer</th>\n",
       "      <th>isAddedToCentralOffice</th>\n",
       "      <th>partyLocationCityFact</th>\n",
       "      <th>partyLocationStreetFact</th>\n",
       "      <th>headProxyDoc</th>\n",
       "      <th>headLocationKorpus</th>\n",
       "      <th>partyLocationKorpus</th>\n",
       "      <th>headLocationAptFact</th>\n",
       "      <th>headLocationIndexFact</th>\n",
       "      <th>headLocationRegionFact</th>\n",
       "      <th>headLocationStreetFact</th>\n",
       "      <th>headLocationCountryFact</th>\n",
       "      <th>headLocationBuildingFact</th>\n",
       "      <th>headLocationDistrictFact</th>\n",
       "      <th>signatures</th>\n",
       "      <th>headLocationCityFact</th>\n",
       "      <th>headLocationKorpusFact</th>\n",
       "      <th>headLocationForeignLocationFact</th>\n",
       "      <th>party_main_EDRPOU</th>\n",
       "      <th>party_main_name</th>\n",
       "    </tr>\n",
       "  </thead>\n",
       "  <tbody>\n",
       "    <tr>\n",
       "      <th>0</th>\n",
       "      <td>2021-09-28T14:07:54.559Z</td>\n",
       "      <td>2021</td>\n",
       "      <td>Основний</td>\n",
       "      <td>2 квартал</td>\n",
       "      <td>NaN</td>\n",
       "      <td>[]</td>\n",
       "      <td>[]</td>\n",
       "      <td>[]</td>\n",
       "      <td>NaN</td>\n",
       "      <td>35846609</td>\n",
       "      <td>Кременецька районна партійна організація Аграрної партії України</td>\n",
       "      <td>a9d0c230-2061-11ec-9c82-eb6359fa003a</td>\n",
       "      <td>Регіональний офіс</td>\n",
       "      <td>[]</td>\n",
       "      <td>Лаць</td>\n",
       "      <td>[]</td>\n",
       "      <td>31310</td>\n",
       "      <td>Андрій</td>\n",
       "      <td>[]</td>\n",
       "      <td>1.0</td>\n",
       "      <td>1.0</td>\n",
       "      <td>Іванович</td>\n",
       "      <td>[]</td>\n",
       "      <td>0.0</td>\n",
       "      <td>NaN</td>\n",
       "      <td>0.0</td>\n",
       "      <td>[]</td>\n",
       "      <td>[]</td>\n",
       "      <td>с. Серединки</td>\n",
       "      <td>[]</td>\n",
       "      <td>[]</td>\n",
       "      <td>с. Білокриниця</td>\n",
       "      <td>[]</td>\n",
       "      <td>Тернопільська обл.</td>\n",
       "      <td>47013</td>\n",
       "      <td>Україна</td>\n",
       "      <td>Так</td>\n",
       "      <td>Тернопільська обл.</td>\n",
       "      <td>[]</td>\n",
       "      <td>[]</td>\n",
       "      <td>Україна</td>\n",
       "      <td>34</td>\n",
       "      <td>Кременецький р-н</td>\n",
       "      <td>[]</td>\n",
       "      <td>Україна</td>\n",
       "      <td>[]</td>\n",
       "      <td>[]</td>\n",
       "      <td>7a122d00-2065-11ec-945d-214b0bac8091</td>\n",
       "      <td>b78a8d80-00eb-11ef-95c4-e7bfad33aba2</td>\n",
       "      <td>NaN</td>\n",
       "      <td>NaN</td>\n",
       "      <td>NaN</td>\n",
       "      <td>NaN</td>\n",
       "      <td>NaN</td>\n",
       "      <td>NaN</td>\n",
       "      <td>NaN</td>\n",
       "      <td>NaN</td>\n",
       "      <td>вул. Вишнева</td>\n",
       "      <td>NaN</td>\n",
       "      <td>NaN</td>\n",
       "      <td>Додано до звіту центрального офісу</td>\n",
       "      <td>NaN</td>\n",
       "      <td>NaN</td>\n",
       "      <td>NaN</td>\n",
       "      <td>NaN</td>\n",
       "      <td>NaN</td>\n",
       "      <td>NaN</td>\n",
       "      <td>NaN</td>\n",
       "      <td>NaN</td>\n",
       "      <td>NaN</td>\n",
       "      <td>NaN</td>\n",
       "      <td>NaN</td>\n",
       "      <td>NaN</td>\n",
       "      <td>NaN</td>\n",
       "      <td>NaN</td>\n",
       "      <td>NaN</td>\n",
       "      <td>NaN</td>\n",
       "      <td>34763401</td>\n",
       "      <td>АГРАРНА ПАРТІЯ УКРАЇНИ</td>\n",
       "    </tr>\n",
       "  </tbody>\n",
       "</table>\n",
       "</div>"
      ],
      "text/plain": [
       "                       date  year     types     period website obligate  \\\n",
       "0  2021-09-28T14:07:54.559Z  2021  Основний  2 квартал     NaN       []   \n",
       "\n",
       "  tablets1 tablets2 isWebsite  partyCode  \\\n",
       "0       []       []       NaN   35846609   \n",
       "\n",
       "                                                          partyName  \\\n",
       "0  Кременецька районна партійна організація Аграрної партії України   \n",
       "\n",
       "                             documentId         officeType paymentGov  \\\n",
       "0  a9d0c230-2061-11ec-9c82-eb6359fa003a  Регіональний офіс         []   \n",
       "\n",
       "  headLastName paymentOther  reportNumber headFirstName propertyMoney  \\\n",
       "0         Лаць           []         31310        Андрій            []   \n",
       "\n",
       "   quantityFirst  quantityThird headMiddleName propertyPapers  quantitySecond  \\\n",
       "0            1.0            1.0       Іванович             []             0.0   \n",
       "\n",
       "  signerFullName  paymentOtherSum propertyNoMoney propertyObjects  \\\n",
       "0            NaN              0.0              []              []   \n",
       "\n",
       "  headLocationCity propertyMovables contributionCosts partyLocationCity  \\\n",
       "0     с. Серединки               []                []    с. Білокриниця   \n",
       "\n",
       "  propertyTransport  headLocationRegion  partyLocationIndex  \\\n",
       "0                []  Тернопільська обл.               47013   \n",
       "\n",
       "  headLocationCountry partyIsLocationSame partyLocationRegion  \\\n",
       "0             Україна                 Так  Тернопільська обл.   \n",
       "\n",
       "  contributionConMoney contributionOtherCon partyLocationCountry  \\\n",
       "0                   []                   []              Україна   \n",
       "\n",
       "  partyLocationBuilding partyLocationDistrict contributionOtherCosts  \\\n",
       "0                    34      Кременецький р-н                     []   \n",
       "\n",
       "  partyLocationCountryFact paymentCostsPaymentReceive  \\\n",
       "0                  Україна                         []   \n",
       "\n",
       "  paymentOtherCostsPaymentReceive                                    id  \\\n",
       "0                              []  7a122d00-2065-11ec-945d-214b0bac8091   \n",
       "\n",
       "                              report_id  headLocationApt partyLocationApt  \\\n",
       "0  b78a8d80-00eb-11ef-95c4-e7bfad33aba2              NaN              NaN   \n",
       "\n",
       "   partyLocationAptFact  partyLocationIndexFact  partyLocationKorpusFact  \\\n",
       "0                   NaN                     NaN                      NaN   \n",
       "\n",
       "  partyLocationRegionFact  partyLocationBuildingFact  \\\n",
       "0                     NaN                        NaN   \n",
       "\n",
       "  partyLocationDistrictFact partyLocationStreet  headIdNumber  headIdIssurer  \\\n",
       "0                       NaN        вул. Вишнева           NaN            NaN   \n",
       "\n",
       "               isAddedToCentralOffice partyLocationCityFact  \\\n",
       "0  Додано до звіту центрального офісу                   NaN   \n",
       "\n",
       "  partyLocationStreetFact headProxyDoc  headLocationKorpus  \\\n",
       "0                     NaN          NaN                 NaN   \n",
       "\n",
       "  partyLocationKorpus  headLocationAptFact  headLocationIndexFact  \\\n",
       "0                 NaN                  NaN                    NaN   \n",
       "\n",
       "  headLocationRegionFact headLocationStreetFact  headLocationCountryFact  \\\n",
       "0                    NaN                    NaN                      NaN   \n",
       "\n",
       "  headLocationBuildingFact headLocationDistrictFact signatures  \\\n",
       "0                      NaN                      NaN        NaN   \n",
       "\n",
       "  headLocationCityFact  headLocationKorpusFact  \\\n",
       "0                  NaN                     NaN   \n",
       "\n",
       "   headLocationForeignLocationFact  party_main_EDRPOU         party_main_name  \n",
       "0                              NaN           34763401  АГРАРНА ПАРТІЯ УКРАЇНИ  "
      ]
     },
     "execution_count": 64,
     "metadata": {},
     "output_type": "execute_result"
    }
   ],
   "source": [
    "filename = '0_report_duplcates'\n",
    "df = pd.read_excel(f'data/excel_tables/{filename}.xlsx')\n",
    "df.head(1)"
   ]
  },
  {
   "cell_type": "code",
   "execution_count": 65,
   "metadata": {},
   "outputs": [
    {
     "data": {
      "text/plain": [
       "party_main_name\n",
       "ПАРТІЯ ЗЕЛЕНИХ УКРАЇНИ           512\n",
       "АГРАРНА ПАРТІЯ УКРАЇНИ            60\n",
       "САМОВРЯДНА УКРАЇНСЬКА ДЕРЖАВА     40\n",
       "ПАРТІЯ СИЛЬНОЇ ВЛАДИ              30\n",
       "Name: count, dtype: int64"
      ]
     },
     "execution_count": 65,
     "metadata": {},
     "output_type": "execute_result"
    }
   ],
   "source": [
    "df.party_main_name.value_counts().head(10)"
   ]
  },
  {
   "cell_type": "code",
   "execution_count": null,
   "metadata": {},
   "outputs": [],
   "source": []
  }
 ],
 "metadata": {
  "kernelspec": {
   "display_name": ".venv",
   "language": "python",
   "name": "python3"
  },
  "language_info": {
   "codemirror_mode": {
    "name": "ipython",
    "version": 3
   },
   "file_extension": ".py",
   "mimetype": "text/x-python",
   "name": "python",
   "nbconvert_exporter": "python",
   "pygments_lexer": "ipython3",
   "version": "3.10.12"
  }
 },
 "nbformat": 4,
 "nbformat_minor": 2
}
