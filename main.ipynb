{
 "cells": [
  {
   "cell_type": "code",
   "execution_count": 1,
   "metadata": {},
   "outputs": [],
   "source": [
    "# ! pip install openpyxl xlsxwriter pandas tqdm requests"
   ]
  },
  {
   "cell_type": "code",
   "execution_count": 2,
   "metadata": {},
   "outputs": [],
   "source": [
    "import requests, json, pandas as pd\n",
    "from time import sleep\n",
    "from tqdm import tqdm\n",
    "\n",
    "# pandas show all columns \n",
    "pd.set_option('display.max_columns', None)\n",
    "\n",
    "# pandas wider columns\n",
    "pd.set_option('display.max_colwidth', None)"
   ]
  },
  {
   "cell_type": "code",
   "execution_count": 3,
   "metadata": {},
   "outputs": [],
   "source": [
    "# !!! set to True if you want to update all data from the very beginning\n",
    "full_update = False"
   ]
  },
  {
   "cell_type": "markdown",
   "metadata": {},
   "source": [
    "https://politdata.nazk.gov.ua/api/swagger/#/reports/get_getreport__id_  \n",
    "https://politdata.nazk.gov.ua/#/  \n",
    "https://docs.google.com/document/d/1X68OvBYCQEiGG_nbjiD2fE0PZ1JIvbSsfXjrHUjOZ0c/edit?usp=sharing  "
   ]
  },
  {
   "cell_type": "markdown",
   "metadata": {},
   "source": [
    "## Інформація про партії"
   ]
  },
  {
   "cell_type": "code",
   "execution_count": 4,
   "metadata": {},
   "outputs": [
    {
     "name": "stdout",
     "output_type": "stream",
     "text": [
      "245\n"
     ]
    },
    {
     "data": {
      "text/html": [
       "<div>\n",
       "<style scoped>\n",
       "    .dataframe tbody tr th:only-of-type {\n",
       "        vertical-align: middle;\n",
       "    }\n",
       "\n",
       "    .dataframe tbody tr th {\n",
       "        vertical-align: top;\n",
       "    }\n",
       "\n",
       "    .dataframe thead th {\n",
       "        text-align: right;\n",
       "    }\n",
       "</style>\n",
       "<table border=\"1\" class=\"dataframe\">\n",
       "  <thead>\n",
       "    <tr style=\"text-align: right;\">\n",
       "      <th></th>\n",
       "      <th>name</th>\n",
       "      <th>unitId</th>\n",
       "      <th>code</th>\n",
       "    </tr>\n",
       "  </thead>\n",
       "  <tbody>\n",
       "    <tr>\n",
       "      <th>0</th>\n",
       "      <td>ПОЛІТИЧНА ПАРТІЯ УКРАЇНСЬКА ПАРТІЯ «ЗЕЛЕНА ПЛАНЕТА»</td>\n",
       "      <td>101006351</td>\n",
       "      <td>33447027</td>\n",
       "    </tr>\n",
       "  </tbody>\n",
       "</table>\n",
       "</div>"
      ],
      "text/plain": [
       "                                                  name     unitId      code\n",
       "0  ПОЛІТИЧНА ПАРТІЯ УКРАЇНСЬКА ПАРТІЯ «ЗЕЛЕНА ПЛАНЕТА»  101006351  33447027"
      ]
     },
     "execution_count": 4,
     "metadata": {},
     "output_type": "execute_result"
    }
   ],
   "source": [
    "# таблиця зі всіма партіями (api/getpartylistmain)\n",
    "\n",
    "party_list = requests.get('https://politdata.nazk.gov.ua/api/getpartylistmain').json()\n",
    "party_list = pd.DataFrame(party_list['data'])\n",
    "party_list = party_list.drop(['locationFact','politPartyUnitId','locations'], axis=1)\n",
    "\n",
    "\n",
    "# таблиця зі всіма регіональними представництвами (api/getpartylistregion)\n",
    "\n",
    "party_region_list = requests.get('https://politdata.nazk.gov.ua/api/getpartylistregion').json()\n",
    "party_region_list = pd.DataFrame(party_region_list['data'])\n",
    "party_region_list = party_region_list.drop(['locationFact','locations'], axis=1) \n",
    "\n",
    "# додати інформацію про центральні партії до регіональних філій\n",
    "party_region_list = party_region_list.merge(party_list[['name','unitId','code']]\n",
    "                                            .rename({'name':'party_main_name', 'code':'party_main_EDRPOU','unitId':'party_main_unitId'}, \n",
    "                                                    axis=1), \n",
    "                                            right_on='party_main_unitId', \n",
    "                                            left_on='politPartyUnitId', \n",
    "                                            how='left')\n",
    "\n",
    "# перейменувати\n",
    "party_region_list = party_region_list.rename({'name':'local_org_name', 'code':'local_org_EDRPOU'},axis=1)"
   ]
  },
  {
   "cell_type": "markdown",
   "metadata": {},
   "source": [
    "## Download all reports"
   ]
  },
  {
   "cell_type": "code",
   "execution_count": 6,
   "metadata": {},
   "outputs": [
    {
     "data": {
      "text/plain": [
       "772"
      ]
     },
     "execution_count": 6,
     "metadata": {},
     "output_type": "execute_result"
    }
   ],
   "source": [
    "# завантажити список всіх звітів, які є в системі\n",
    "\n",
    "report_list = requests.get('https://politdata.nazk.gov.ua/api/getreportslist').json()\n",
    "report_list = [X['id'] for X in report_list]\n",
    "len(report_list)"
   ]
  },
  {
   "cell_type": "code",
   "execution_count": 70,
   "metadata": {},
   "outputs": [
    {
     "data": {
      "text/plain": [
       "772"
      ]
     },
     "execution_count": 70,
     "metadata": {},
     "output_type": "execute_result"
    }
   ],
   "source": [
    "# завантажити список всіх звітів, які вже були завантажені\n",
    "\n",
    "with open('data/data_for_downloader/downloaded_report_ids.txt', 'r') as f:\n",
    "    downloaded_report_ids = f.read().splitlines()\n",
    "\n",
    "len(downloaded_report_ids)"
   ]
  },
  {
   "cell_type": "code",
   "execution_count": 71,
   "metadata": {},
   "outputs": [
    {
     "data": {
      "text/plain": [
       "0"
      ]
     },
     "execution_count": 71,
     "metadata": {},
     "output_type": "execute_result"
    }
   ],
   "source": [
    "# у залежності від типу оновлення (повний чи частковий) визначити список звітів, які потрібно завантажити\n",
    "\n",
    "if full_update:\n",
    "    reports_to_download = report_list\n",
    "else:\n",
    "    reports_to_download = [x for x in report_list if x not in downloaded_report_ids]\n",
    "\n",
    "len(reports_to_download)"
   ]
  },
  {
   "cell_type": "code",
   "execution_count": 9,
   "metadata": {},
   "outputs": [
    {
     "name": "stderr",
     "output_type": "stream",
     "text": [
      "  0%|          | 0/3 [00:00<?, ?it/s]"
     ]
    },
    {
     "name": "stderr",
     "output_type": "stream",
     "text": [
      "100%|██████████| 3/3 [00:01<00:00,  2.72it/s]\n"
     ]
    }
   ],
   "source": [
    "r_df = pd.DataFrame()\n",
    "for i in tqdm(reports_to_download):\n",
    "    one_report = requests.get(f'https://politdata.nazk.gov.ua/api/getreport/{i}').json()\n",
    "    \n",
    "    # df\n",
    "    one_report_df = pd.DataFrame(one_report)\n",
    "    one_report_df['report_id'] = i\n",
    "    r_df = pd.concat([r_df, one_report_df], axis=0)\n",
    "\n",
    "    sleep(0.2)\n",
    "\n",
    "r_df = r_df.reset_index(drop=True)"
   ]
  },
  {
   "cell_type": "code",
   "execution_count": 10,
   "metadata": {},
   "outputs": [
    {
     "data": {
      "text/plain": [
       "12"
      ]
     },
     "execution_count": 10,
     "metadata": {},
     "output_type": "execute_result"
    }
   ],
   "source": [
    "len(r_df)"
   ]
  },
  {
   "cell_type": "code",
   "execution_count": 11,
   "metadata": {},
   "outputs": [],
   "source": [
    "if full_update:\n",
    "\n",
    "    # створити новий файл зі всіма завантаженими звітами\n",
    "    with open('data/data_for_downloader/downloaded_report_ids.txt', 'w') as f:\n",
    "        for report_id in r_df['report_id'].unique():\n",
    "            f.write(str(report_id) + '\\n')\n",
    "\n",
    "else:\n",
    "    \n",
    "    # додати підвантажені звіти до txt файлу\n",
    "    with open('data/data_for_downloader/downloaded_report_ids.txt', 'a') as f:\n",
    "        for report_id in r_df['report_id'].unique():\n",
    "            f.write(str(report_id) + '\\n')"
   ]
  },
  {
   "cell_type": "code",
   "execution_count": 12,
   "metadata": {},
   "outputs": [
    {
     "data": {
      "text/plain": [
       "0"
      ]
     },
     "execution_count": 12,
     "metadata": {},
     "output_type": "execute_result"
    }
   ],
   "source": [
    "# додати інфу про центральний офіс (який був визначений в кожному звіті)\n",
    "party_main_finder = r_df.loc[r_df.officeType==\"Центральний офіс\",['report_id','partyCode','partyName']].rename({'partyCode':'party_main_EDRPOU','partyName':'party_main_name'}, axis=1)\n",
    "\n",
    "# обʼєднати r_df та party_main_finder\n",
    "r_df = r_df.merge(party_main_finder, on='report_id', how='left')\n",
    "\n",
    "# перевірити помилки\n",
    "len(r_df[r_df.party_main_name.isnull()])"
   ]
  },
  {
   "cell_type": "code",
   "execution_count": 13,
   "metadata": {},
   "outputs": [],
   "source": [
    "# Чистка назв партій\n",
    "\n",
    "r_df['party_main_name'] = r_df['party_main_name'].str.upper()\n",
    "\n",
    "to_delete = ['^ПОЛІТИЧНА ПАРТІЯ ', '^ВСЕУКРАЇНСЬКЕ ОБ\\'ЄДНАННЯ ', 'ВСЕУКРАЇНСЬКЕ ПОЛІТИЧНЕ ОБ\\'ЄДНАННЯ',\n",
    "             'ПОЛІТИЧЯНА ПАРТІЯ','СОЦІАЛЬНО-ЕКОЛОГІЧНА ПАРТІЯ', 'ВСЕУКРАЇНСЬКЕ ОБ\\'ЄДНАННЯ', 'СОЦІАЛЬНО-ПОЛІТИЧНИЙ СОЮЗ ',\n",
    "             '«', '»', '\\\"']\n",
    "for words in to_delete:\n",
    "    r_df['party_main_name'] = r_df['party_main_name'].str.replace(words, '', regex=True)\n",
    "\n",
    "# прибрати зайві пробіли\n",
    "r_df['party_main_name'] = r_df['party_main_name'].str.replace('\\s+', ' ', regex=True).str.strip()\n",
    "\n",
    "\n",
    "# ручні правки\n",
    "party_renamer = {\n",
    "    'РІШУЧИХ ДІЙ': 'ПАРТІЯ РІШУЧИХ ДІЙ',\n",
    "    'КОНКРЕТНИХ СПРАВ':'ПАРТІЯ КОНКРЕТНИХ СПРАВ',\n",
    "    'БЛОК СВІТЛИЧНОЇ РАЗОМ!':'БЛОК СВІТЛИЧНОЇ «РАЗОМ!»',\n",
    "    'ПАРТІЯ ВОЛОДИМИРА БУРЯКА ЄДНАННЯ':'ПАРТІЯ ВОЛОДИМИРА БУРЯКА «ЄДНАННЯ»',\n",
    "    'МИР':'ВСЕУКРАЇНСЬКЕ ОБ\\'ЄДНАННЯ «МИР»',\n",
    "    'ПАРТІЯ ІГОРЯ КОЛИХАЄВА НАМ ТУТ ЖИТИ!':'ПАРТІЯ ІГОРЯ КОЛИХАЄВА «НАМ ТУТ ЖИТИ!»',\n",
    "    'КОМАНДА МАКСИМА ЄФІМОВА НАШ КРАМАТОРСЬК':'КОМАНДА МАКСИМА ЄФІМОВА «НАШ КРАМАТОРСЬК»',\n",
    "    'ГРОМАДСЬКО-ПОЛІТИЧНИЙ РУХ ВАЛЕНТИНА НАЛИВАЙЧЕНКА СПРАВЕДЛИВІСТЬ':'ГРОМАДСЬКО-ПОЛІТИЧНИЙ РУХ ВАЛЕНТИНА НАЛИВАЙЧЕНКА «СПРАВЕДЛИВІСТЬ»',\n",
    "    'МАЛОГО І СЕРЕДНЬОГО БІЗНЕСУ УКРАЇНИ':'ПАРТІЯ МАЛОГО І СЕРЕДНЬОГО БІЗНЕСУ УКРАЇНИ',\n",
    "    'БЛОК ВІЛКУЛА УКРАЇНСЬКА ПЕРСПЕКТИВА':'БЛОК ВІЛКУЛА «УКРАЇНСЬКА ПЕРСПЕКТИВА»',\n",
    "    'НАЦІОНАЛЬНО-ДЕМОКРАТИЧНЕ ОБ\\'ЄДНАННЯ УКРАЇНА':'НАЦІОНАЛЬНО-ДЕМОКРАТИЧНЕ ОБ\\'ЄДНАННЯ «УКРАЇНА»',\n",
    "    'ГРОМАДЯНСЬКИЙ РУХ СВІДОМІ':'ГРОМАДЯНСЬКИЙ РУХ «СВІДОМІ»',\n",
    "    'ВО ПЛАТФОРМА ГРОМАД':'ПЛАТФОРМА ГРОМАД'\n",
    "}\n",
    "\n",
    "r_df['party_main_name'] = r_df['party_main_name'].replace(party_renamer)"
   ]
  },
  {
   "cell_type": "markdown",
   "metadata": {},
   "source": [
    "## Preparation"
   ]
  },
  {
   "cell_type": "markdown",
   "metadata": {},
   "source": [
    "### Main functions"
   ]
  },
  {
   "cell_type": "code",
   "execution_count": 15,
   "metadata": {},
   "outputs": [],
   "source": [
    "# прочитати всі renamers\n",
    "with open('data/data_for_downloader/renamers.json', 'r') as f:\n",
    "    renamers = json.load(f)\n",
    "\n",
    "# зберігти кожен в окрему змінну\n",
    "for k,v in renamers.items():\n",
    "    exec(f\"{k} = v\")"
   ]
  },
  {
   "cell_type": "code",
   "execution_count": 16,
   "metadata": {},
   "outputs": [],
   "source": [
    "def subset_table(df, main_var, cols_to_select):\n",
    "    # subset\n",
    "    table = df[[main_var] + cols_to_select]\n",
    "    \n",
    "    # видалити пусті\n",
    "    table = table[table[main_var].apply(lambda x: len(x)>0)]\n",
    "    \n",
    "    return table"
   ]
  },
  {
   "cell_type": "code",
   "execution_count": 17,
   "metadata": {},
   "outputs": [],
   "source": [
    "# замінити *** (деперсоналізовані дані) на None\n",
    "\n",
    "def replace_stars(cell):\n",
    "    if isinstance(cell, str) and (set(cell) == {'*'} or set(cell) == {'*','_'}):\n",
    "        return None\n",
    "    else:\n",
    "        return cell"
   ]
  },
  {
   "cell_type": "code",
   "execution_count": 18,
   "metadata": {},
   "outputs": [],
   "source": [
    "# основна функції розпавку змінної зі списком в індивідуальні рядки\n",
    "\n",
    "def list_to_rows(table, main_var, cols_to_select, renamer):\n",
    "\n",
    "    t = pd.DataFrame()\n",
    "\n",
    "    for i in table.index:\n",
    "        new_df = pd.DataFrame(table.loc[i, main_var])\n",
    "        for n in cols_to_select:\n",
    "            new_df[n] = table.loc[i,n]\n",
    "        t = pd.concat([t, new_df], axis=0)\n",
    "\n",
    "    # перейменувати\n",
    "    t = t.rename(renamer, axis=1)\n",
    "    t = t.reset_index(drop=True)\n",
    "    \n",
    "    # замінити ***\n",
    "    t = t.applymap(replace_stars)\n",
    "\n",
    "    return t"
   ]
  },
  {
   "cell_type": "code",
   "execution_count": 19,
   "metadata": {},
   "outputs": [],
   "source": [
    "# зберегти як excel\n",
    "\n",
    "def save_as_excel(table, filename, full_update):\n",
    "    path = f'data/excel_tables/{filename}.xlsx'\n",
    "    \n",
    "    if full_update:\n",
    "        table.to_excel(path, index=False, engine='xlsxwriter')\n",
    "    \n",
    "    else:\n",
    "        # open and save in excel_df\n",
    "        excel_df = pd.read_excel(path)\n",
    "        if len(table) > 0:\n",
    "            new_table = pd.concat([excel_df, table], axis=0, ignore_index=True)\n",
    "            new_table.to_excel(path, index=False, engine='xlsxwriter')\n",
    "        else:\n",
    "            excel_df.to_excel(path, index=False, engine='xlsxwriter')"
   ]
  },
  {
   "cell_type": "markdown",
   "metadata": {},
   "source": [
    "### Functions for data cleaning"
   ]
  },
  {
   "cell_type": "code",
   "execution_count": 20,
   "metadata": {},
   "outputs": [],
   "source": [
    "# почистити IBAN\n",
    "def clean_bank_account(bank_account_column):\n",
    "    clean_bank_account_column = (bank_account_column.str.replace('№','', regex=True)\n",
    "                                .str.replace(' ','', regex=True)\n",
    "                                .str.replace(':','', regex=True)\n",
    "                                .str.replace('\\n','', regex=True)\n",
    "                                .str.strip())\n",
    "    return clean_bank_account_column"
   ]
  },
  {
   "cell_type": "code",
   "execution_count": 21,
   "metadata": {},
   "outputs": [],
   "source": [
    "# Якщо серед донорів зустрічаються партійні осередки чи центральний офіс політичної партії 'donor_type' замінити на “партійний осередок” (визначила по 'donor_edrpou')\n",
    "\n",
    "def check_edrpou_for_party(table, var_edrpou_to_search, var_to_replace):\n",
    "    table.loc[(table[var_edrpou_to_search].isin(party_list.code.tolist()))|\n",
    "              (table[var_edrpou_to_search].isin(party_region_list.local_org_EDRPOU.tolist())), \n",
    "              var_to_replace] = 'Партійний осередок'\n",
    "    return table"
   ]
  },
  {
   "cell_type": "code",
   "execution_count": 22,
   "metadata": {},
   "outputs": [],
   "source": [
    "org_names_to_rename = {\n",
    " 'ТОВ ПІДПРИЄМСТВО КИЇВ': 'ТОВ ПІДПРИЄМСТВО \"КИЇВ\"',\n",
    " 'ТОВ \"ПІДПРИЄМСТВО \"КИЇВ\"': 'ТОВ ПІДПРИЄМСТВО \"КИЇВ\"',\n",
    " 'ПІДПРИЄМСТВО \"КИЇВ\" ТОВ': 'ТОВ ПІДПРИЄМСТВО \"КИЇВ\"',\n",
    " 'ТОВ \"ПІДПРИЄМСТВО КИЇВ\"': 'ТОВ ПІДПРИЄМСТВО \"КИЇВ\"',\n",
    " 'ПІДПРИЄМСТВО \"КИЇВ\"': 'ТОВ ПІДПРИЄМСТВО \"КИЇВ\"',\n",
    " 'АКЦІОНЕРНЕ ТОВАРИСТВО \"РАЙФФАЙЗЕН БАНК\"': 'АКЦІОНЕРНЕ ТОВАРИСТВО \"РАЙФФАЙЗЕН БАНК АВАЛЬ\"'}"
   ]
  },
  {
   "cell_type": "code",
   "execution_count": 23,
   "metadata": {},
   "outputs": [],
   "source": [
    "def org_name_clean(var_name):\n",
    "\n",
    "    # manual replacers\n",
    "    t[var_name] = t[var_name].replace(org_names_to_rename)\n",
    "\n",
    "    # replace 'ФІЗИЧНА ОСОБА ПІДПРИЄМЕЦЬ' with 'ФОП' inside each cell\n",
    "\n",
    "    fop_replacers = ['ФІЗИЧНА ОСОБА ПІДРИЄМЕЦЬ', 'ФІЗИЧНА ОСОБА ПІДПРИЄМЕЦЬ','ФІЗИЧНА ОСОБА ПІДПРИЄМЕЦЬ',\n",
    "                    'ФІЗИЧНА ОСОБА- ПІДПРИЄМЕЦЬ','ФІЗИЧНА ОСОБА-ПІДПРИЄМЕЦЬ','ФІЗИЧНА ОСОБА-ПІДРИЄМЕЦЬ','ФІЗИЧНА ОСОБА - ПІДПРИЄМЕЦЬ',\n",
    "                    'ФІЗИЧНА ОСОБА -ПІДПРИЄМЕЦЬ','ФІЗИЧНА ОБОБА-ПІДПРИЄМЕЦЬ','ФІЗИЧНА ОСОБА-ПІДПРИМЕЦЬ']\n",
    "    for replacer in fop_replacers:\n",
    "        t[var_name] = t[var_name].str.replace(replacer,'ФОП', regex=True)\n",
    "\n",
    "    # Long to short form of ТОВ\n",
    "    tov_replacers = [\"ТОВАРИСТВО З ОБМЕЖЕНОЮ ВІДПОВІДАЛЬНІСТЮ\",\"ТОВАРИСТВО З ОБМЕЖЕНОЮ ВІДПРОВІДАЛЬНІСТЮ\"]\n",
    "    for replacer in tov_replacers:\n",
    "        t[var_name] = t[var_name].str.replace(replacer,'ТОВ', regex=True)\n",
    "\n",
    "    t[var_name] = t[var_name].str.replace(\"ПРИВАТНЕ АКЦІОНЕРНЕ ТОВАРИСТВО\",'ПрАТ', regex=True)\n",
    "    \n",
    "    for replacer in [\"ПУБЛІЧНЕ АКЦІОНЕРНЕ ТОВАРИСТВО\", 'ПУБЛІЧНЕ АКЦІОНЕРНЕ ТОВАРИСТВО']:\n",
    "        t[var_name] = t[var_name].str.replace(replacer,'ПАТ', regex=True)\n",
    "\n",
    "    for replacer in [\"ДЕРЖАВНОЇ ПОДАТКОВОЇ СЛУЖБИ\", 'ДЕРЖАВНА ПОДАТКОВА СЛУЖБА']:\n",
    "        t[var_name] = t[var_name].str.replace(replacer,'ДПС', regex=True)\n",
    "    \n",
    "\n",
    "    t[var_name] = t[var_name].str.replace('ПОЛІТИЧНА ПАРТІЯ','ПП', regex=True)\n",
    "\n",
    "    for replacer in [\"АКЦІОНЕРНЕ ТОВАРИВСТВО\",'АКЦІОНЕРНЕ ТОВАРИСТВО']:\n",
    "        t[var_name] = t[var_name].str.replace(replacer,'АТ', regex=True)    \n",
    "\n",
    "    # delete 'ФОП' at the end of the string and put at the start\n",
    "    for i in t.index:\n",
    "        if type(t.loc[i,var_name]) == str: \n",
    "            if t.loc[i,var_name].endswith('ФОП'):\n",
    "                t.loc[i,var_name] = 'ФОП ' + t.loc[i,var_name].replace(' ФОП','').strip() \n"
   ]
  },
  {
   "cell_type": "markdown",
   "metadata": {},
   "source": [
    "## Tables"
   ]
  },
  {
   "cell_type": "markdown",
   "metadata": {},
   "source": [
    "### Таблиця 1: загальна інформація про партію/осередок"
   ]
  },
  {
   "cell_type": "code",
   "execution_count": 24,
   "metadata": {},
   "outputs": [],
   "source": [
    "filename = '1_legal_entity_report_info'"
   ]
  },
  {
   "cell_type": "code",
   "execution_count": 25,
   "metadata": {},
   "outputs": [
    {
     "data": {
      "text/html": [
       "<div>\n",
       "<style scoped>\n",
       "    .dataframe tbody tr th:only-of-type {\n",
       "        vertical-align: middle;\n",
       "    }\n",
       "\n",
       "    .dataframe tbody tr th {\n",
       "        vertical-align: top;\n",
       "    }\n",
       "\n",
       "    .dataframe thead th {\n",
       "        text-align: right;\n",
       "    }\n",
       "</style>\n",
       "<table border=\"1\" class=\"dataframe\">\n",
       "  <thead>\n",
       "    <tr style=\"text-align: right;\">\n",
       "      <th></th>\n",
       "      <th>officeType</th>\n",
       "      <th>report_submition_date</th>\n",
       "      <th>documentId</th>\n",
       "      <th>report_type</th>\n",
       "      <th>report_period</th>\n",
       "      <th>report_year</th>\n",
       "      <th>legal_entity_name</th>\n",
       "      <th>legal_entity_edrpou</th>\n",
       "      <th>legal_entity_country</th>\n",
       "      <th>legal_entity_index</th>\n",
       "      <th>legal_entity_region</th>\n",
       "      <th>legal_entity_district</th>\n",
       "      <th>legal_entity_city</th>\n",
       "      <th>legal_entity_street</th>\n",
       "      <th>legal_entity_building</th>\n",
       "      <th>legal_entity_korpus</th>\n",
       "      <th>legal_entity_apartment</th>\n",
       "      <th>is_actual_address</th>\n",
       "      <th>actual_address_country</th>\n",
       "      <th>actual_address_index</th>\n",
       "      <th>actual_address_region</th>\n",
       "      <th>actual_address_district</th>\n",
       "      <th>actual_address_city</th>\n",
       "      <th>actual_address_street</th>\n",
       "      <th>actual_address_building</th>\n",
       "      <th>actual_address_korpus</th>\n",
       "      <th>actual_address_apartment</th>\n",
       "      <th>legal_entity_head_last_name</th>\n",
       "      <th>legal_entity_head_first_name</th>\n",
       "      <th>legal_entity_head_middle_name</th>\n",
       "      <th>number_of_employees_contract</th>\n",
       "      <th>number_of_employees_civil_agreement</th>\n",
       "      <th>number_of_employees_volunteers</th>\n",
       "      <th>report_id</th>\n",
       "      <th>party_main_name</th>\n",
       "      <th>party_main_EDRPOU</th>\n",
       "    </tr>\n",
       "  </thead>\n",
       "  <tbody>\n",
       "    <tr>\n",
       "      <th>0</th>\n",
       "      <td>Центральний офіс</td>\n",
       "      <td>2024-04-23T06:29:13.477Z</td>\n",
       "      <td>bab43d40-013a-11ef-8a6c-27bc4724684c</td>\n",
       "      <td>Основний</td>\n",
       "      <td>рік</td>\n",
       "      <td>2021</td>\n",
       "      <td>ПОЛІТИЧНА ПАРТІЯ «АДВОКАТ»</td>\n",
       "      <td>40124783</td>\n",
       "      <td>Україна</td>\n",
       "      <td>03191</td>\n",
       "      <td>м.Київ</td>\n",
       "      <td>Голосіївський</td>\n",
       "      <td>NaN</td>\n",
       "      <td>вул. Лятошинського композитора</td>\n",
       "      <td>14</td>\n",
       "      <td>А</td>\n",
       "      <td>NaN</td>\n",
       "      <td>Так</td>\n",
       "      <td>Україна</td>\n",
       "      <td>None</td>\n",
       "      <td>None</td>\n",
       "      <td>None</td>\n",
       "      <td>None</td>\n",
       "      <td>None</td>\n",
       "      <td>None</td>\n",
       "      <td>None</td>\n",
       "      <td>None</td>\n",
       "      <td>Стародуб</td>\n",
       "      <td>Юлія</td>\n",
       "      <td>Валентинівна</td>\n",
       "      <td>None</td>\n",
       "      <td>None</td>\n",
       "      <td>None</td>\n",
       "      <td>ce536ec0-013a-11ef-938a-5514903835ea</td>\n",
       "      <td>АДВОКАТ</td>\n",
       "      <td>40124783</td>\n",
       "    </tr>\n",
       "  </tbody>\n",
       "</table>\n",
       "</div>"
      ],
      "text/plain": [
       "         officeType     report_submition_date  \\\n",
       "0  Центральний офіс  2024-04-23T06:29:13.477Z   \n",
       "\n",
       "                             documentId report_type report_period report_year  \\\n",
       "0  bab43d40-013a-11ef-8a6c-27bc4724684c    Основний           рік        2021   \n",
       "\n",
       "            legal_entity_name legal_entity_edrpou legal_entity_country  \\\n",
       "0  ПОЛІТИЧНА ПАРТІЯ «АДВОКАТ»            40124783              Україна   \n",
       "\n",
       "  legal_entity_index legal_entity_region legal_entity_district  \\\n",
       "0              03191              м.Київ         Голосіївський   \n",
       "\n",
       "  legal_entity_city             legal_entity_street legal_entity_building  \\\n",
       "0               NaN  вул. Лятошинського композитора                    14   \n",
       "\n",
       "  legal_entity_korpus legal_entity_apartment is_actual_address  \\\n",
       "0                   А                    NaN               Так   \n",
       "\n",
       "  actual_address_country actual_address_index actual_address_region  \\\n",
       "0                Україна                 None                  None   \n",
       "\n",
       "  actual_address_district actual_address_city actual_address_street  \\\n",
       "0                    None                None                  None   \n",
       "\n",
       "  actual_address_building actual_address_korpus actual_address_apartment  \\\n",
       "0                    None                  None                     None   \n",
       "\n",
       "  legal_entity_head_last_name legal_entity_head_first_name  \\\n",
       "0                    Стародуб                         Юлія   \n",
       "\n",
       "  legal_entity_head_middle_name number_of_employees_contract  \\\n",
       "0                  Валентинівна                         None   \n",
       "\n",
       "  number_of_employees_civil_agreement number_of_employees_volunteers  \\\n",
       "0                                None                           None   \n",
       "\n",
       "                              report_id party_main_name party_main_EDRPOU  \n",
       "0  ce536ec0-013a-11ef-938a-5514903835ea         АДВОКАТ          40124783  "
      ]
     },
     "execution_count": 25,
     "metadata": {},
     "output_type": "execute_result"
    }
   ],
   "source": [
    "cols_to_select = [x for x in renamer_1.keys() if x in r_df.columns]\n",
    "table = r_df[cols_to_select].rename(renamer_1, axis=1)\n",
    "\n",
    "# add None if empty column\n",
    "for v in renamer_1.values():\n",
    "    if v not in table.columns:\n",
    "        table[v] = None\n",
    "\n",
    "table = table[list(renamer_1.values())]\n",
    "\n",
    "table.head(1)"
   ]
  },
  {
   "cell_type": "code",
   "execution_count": 26,
   "metadata": {},
   "outputs": [
    {
     "data": {
      "text/html": [
       "<div>\n",
       "<style scoped>\n",
       "    .dataframe tbody tr th:only-of-type {\n",
       "        vertical-align: middle;\n",
       "    }\n",
       "\n",
       "    .dataframe tbody tr th {\n",
       "        vertical-align: top;\n",
       "    }\n",
       "\n",
       "    .dataframe thead th {\n",
       "        text-align: right;\n",
       "    }\n",
       "</style>\n",
       "<table border=\"1\" class=\"dataframe\">\n",
       "  <thead>\n",
       "    <tr style=\"text-align: right;\">\n",
       "      <th></th>\n",
       "      <th>officeType</th>\n",
       "      <th>report_submition_date</th>\n",
       "      <th>documentId</th>\n",
       "      <th>report_type</th>\n",
       "      <th>report_period</th>\n",
       "      <th>report_year</th>\n",
       "      <th>legal_entity_name</th>\n",
       "      <th>legal_entity_edrpou</th>\n",
       "      <th>legal_entity_country</th>\n",
       "      <th>legal_entity_index</th>\n",
       "      <th>legal_entity_region</th>\n",
       "      <th>legal_entity_district</th>\n",
       "      <th>legal_entity_city</th>\n",
       "      <th>legal_entity_street</th>\n",
       "      <th>legal_entity_building</th>\n",
       "      <th>legal_entity_korpus</th>\n",
       "      <th>legal_entity_apartment</th>\n",
       "      <th>is_actual_address</th>\n",
       "      <th>actual_address_country</th>\n",
       "      <th>actual_address_index</th>\n",
       "      <th>actual_address_region</th>\n",
       "      <th>actual_address_district</th>\n",
       "      <th>actual_address_city</th>\n",
       "      <th>actual_address_street</th>\n",
       "      <th>actual_address_building</th>\n",
       "      <th>actual_address_korpus</th>\n",
       "      <th>actual_address_apartment</th>\n",
       "      <th>legal_entity_head_last_name</th>\n",
       "      <th>legal_entity_head_first_name</th>\n",
       "      <th>legal_entity_head_middle_name</th>\n",
       "      <th>number_of_employees_contract</th>\n",
       "      <th>number_of_employees_civil_agreement</th>\n",
       "      <th>number_of_employees_volunteers</th>\n",
       "      <th>report_id</th>\n",
       "      <th>party_main_name</th>\n",
       "      <th>party_main_EDRPOU</th>\n",
       "    </tr>\n",
       "  </thead>\n",
       "  <tbody>\n",
       "  </tbody>\n",
       "</table>\n",
       "</div>"
      ],
      "text/plain": [
       "Empty DataFrame\n",
       "Columns: [officeType, report_submition_date, documentId, report_type, report_period, report_year, legal_entity_name, legal_entity_edrpou, legal_entity_country, legal_entity_index, legal_entity_region, legal_entity_district, legal_entity_city, legal_entity_street, legal_entity_building, legal_entity_korpus, legal_entity_apartment, is_actual_address, actual_address_country, actual_address_index, actual_address_region, actual_address_district, actual_address_city, actual_address_street, actual_address_building, actual_address_korpus, actual_address_apartment, legal_entity_head_last_name, legal_entity_head_first_name, legal_entity_head_middle_name, number_of_employees_contract, number_of_employees_civil_agreement, number_of_employees_volunteers, report_id, party_main_name, party_main_EDRPOU]\n",
       "Index: []"
      ]
     },
     "execution_count": 26,
     "metadata": {},
     "output_type": "execute_result"
    }
   ],
   "source": [
    "# add report about duplicates\n",
    "table[table.duplicated(subset=['report_period','report_year','legal_entity_edrpou',],keep=False)]"
   ]
  },
  {
   "cell_type": "code",
   "execution_count": 27,
   "metadata": {},
   "outputs": [
    {
     "name": "stderr",
     "output_type": "stream",
     "text": [
      "/var/folders/7x/nddt8r3s795cdr4ndj4l1tl00000gn/T/ipykernel_56305/4081751323.py:11: FutureWarning: The behavior of DataFrame concatenation with empty or all-NA entries is deprecated. In a future version, this will no longer exclude empty or all-NA columns when determining the result dtypes. To retain the old behavior, exclude the relevant entries before the concat operation.\n",
      "  new_table = pd.concat([excel_df, table], axis=0, ignore_index=True)\n"
     ]
    }
   ],
   "source": [
    "save_as_excel(table, filename, full_update)"
   ]
  },
  {
   "cell_type": "markdown",
   "metadata": {},
   "source": [
    "### Таблиця 2: інформація про осередки політичної партії  \n",
    "Назва файлу: 2.2_other_party_orgs_info"
   ]
  },
  {
   "cell_type": "code",
   "execution_count": 28,
   "metadata": {},
   "outputs": [],
   "source": [
    "main_var = 'tablets1'\n",
    "\n",
    "cols_to_select = ['partyLocationRegion','period', 'year', 'party_main_name','party_main_EDRPOU','report_id', 'officeType']\n",
    "\n",
    "filename = '2.1_local_orgs_info'"
   ]
  },
  {
   "cell_type": "code",
   "execution_count": 29,
   "metadata": {},
   "outputs": [
    {
     "name": "stderr",
     "output_type": "stream",
     "text": [
      "/var/folders/7x/nddt8r3s795cdr4ndj4l1tl00000gn/T/ipykernel_56305/1600581565.py:16: FutureWarning: DataFrame.applymap has been deprecated. Use DataFrame.map instead.\n",
      "  t = t.applymap(replace_stars)\n"
     ]
    }
   ],
   "source": [
    "table = subset_table(r_df, main_var, cols_to_select)\n",
    "\n",
    "if len(table) > 0:\n",
    "\n",
    "    t = list_to_rows(table, main_var, cols_to_select, renamer_2)\n",
    "    t = t[list(renamer_2.values())+['party_main_name','party_main_EDRPOU','report_id','officeType']]\n",
    "\n",
    "    # Для центральних офісів політичних партій legal_entity_region –> “Україна”\n",
    "    t.loc[t.officeType == 'Центральний офіс', 'legal_entity_region'] = 'Україна'\n",
    "    # і потім видалити 'officeType'\n",
    "    t = t.drop('officeType', axis=1)\n",
    "\n",
    "    save_as_excel(t, filename, full_update)"
   ]
  },
  {
   "cell_type": "markdown",
   "metadata": {},
   "source": [
    "### Таблиця 3: інформація про інші підприємства, установи та організації створені партією політичної партії"
   ]
  },
  {
   "cell_type": "code",
   "execution_count": 30,
   "metadata": {},
   "outputs": [],
   "source": [
    "cols_to_select = ['period', 'year', 'party_main_name','party_main_EDRPOU','report_id']\n",
    "\n",
    "main_var = 'tablets2'\n",
    "\n",
    "filename = '2.2_other_party_orgs_info'"
   ]
  },
  {
   "cell_type": "code",
   "execution_count": 31,
   "metadata": {},
   "outputs": [
    {
     "data": {
      "text/plain": [
       "0"
      ]
     },
     "execution_count": 31,
     "metadata": {},
     "output_type": "execute_result"
    }
   ],
   "source": [
    "table = subset_table(r_df, main_var, cols_to_select)\n",
    "len(table)"
   ]
  },
  {
   "cell_type": "code",
   "execution_count": 32,
   "metadata": {},
   "outputs": [],
   "source": [
    "if len(table) > 0:\n",
    "    t = list_to_rows(table, main_var, cols_to_select, renamer_3)\n",
    "    t = t[list(renamer_3.values())+['party_main_name','party_main_EDRPOU','report_id']]\n",
    "    \n",
    "    # delete empty values\n",
    "    t = t[(t.other_party_org_name != '0')|(t.other_party_org_EDRPOU != '00000000')]\n",
    "\n",
    "    save_as_excel(t, filename, full_update)"
   ]
  },
  {
   "cell_type": "markdown",
   "metadata": {},
   "source": [
    "### Таблиця 4: зведена інформація про нерухоме майно політичної партії (propertyObjects)"
   ]
  },
  {
   "cell_type": "code",
   "execution_count": 33,
   "metadata": {},
   "outputs": [],
   "source": [
    "cols_to_select = ['officeType','types','period', 'year','partyName','partyCode','partyLocationRegion', \n",
    "                  'party_main_name','party_main_EDRPOU','report_id']\n",
    "\n",
    "main_var = 'propertyObjects'\n",
    "\n",
    "filename = '3.1_property_objects'"
   ]
  },
  {
   "cell_type": "code",
   "execution_count": 34,
   "metadata": {},
   "outputs": [],
   "source": [
    "table = subset_table(r_df, main_var, cols_to_select)\n",
    "\n",
    "if len(table) > 0:\n",
    "    t = list_to_rows(table, main_var, cols_to_select, renamer_4)\n",
    "    t = t[list(renamer_4.values())+['party_main_name','party_main_EDRPOU','report_id']]\n",
    "\n",
    "    # delete empty\n",
    "    t = t[t.object_type.notna()]\n",
    "\n",
    "    # Для центральних офісів політичних партій legal_entity_region –> “Україна”\n",
    "    t.loc[t.officeType == 'Центральний офіс', 'legal_entity_region'] = 'Україна'\n",
    "\n",
    "    # clean t['object_owner_name']\n",
    "\n",
    "    if len(t.object_owner_name.unique()) > 1:\n",
    "\n",
    "        t['object_owner_name'] = t['object_owner_name'].str.upper()\n",
    "        t['object_owner_name'] = t['object_owner_name'].str.replace('\\s+',' ', regex=True).str.strip()\n",
    "\n",
    "        # уніфікувати ФОП, ТОВ і ПАТ\n",
    "        org_name_clean('object_owner_name')\n",
    "\n",
    "        # уніфікувати апострофи в іменах\n",
    "        t['object_owner_name'] = t['object_owner_name'].replace(r\"(?<=\\w)[’\\\"\\`](?=\\w)\", \"\\'\", regex=True)\n",
    "\n",
    "        # replace ocassional english letters\n",
    "        t.loc[t['object_owner_name'].str.contains('[А-Я]', na=False),'object_owner_name'] = t.loc[t['object_owner_name'].str.contains('[А-Я]', na=False),'object_owner_name'].str.replace('C','С').str.replace('I','І')\n",
    "\n",
    "        save_as_excel(t, filename, full_update)"
   ]
  },
  {
   "cell_type": "code",
   "execution_count": null,
   "metadata": {},
   "outputs": [],
   "source": []
  },
  {
   "cell_type": "markdown",
   "metadata": {},
   "source": [
    "### Таблиця 5: зведена інформація про рухоме майно політичної партії (propertyMovables)"
   ]
  },
  {
   "cell_type": "code",
   "execution_count": 35,
   "metadata": {},
   "outputs": [],
   "source": [
    "cols_to_select = ['officeType','types','period', 'year','partyName','partyCode', 'partyLocationRegion', \n",
    "                  'party_main_name','party_main_EDRPOU','report_id']\n",
    "\n",
    "main_var = 'propertyMovables'\n",
    "\n",
    "filename = '3.2_movable_property'"
   ]
  },
  {
   "cell_type": "code",
   "execution_count": 36,
   "metadata": {},
   "outputs": [],
   "source": [
    "table = subset_table(r_df, main_var, cols_to_select)\n",
    "\n",
    "if len(table) > 0:\n",
    "    t = list_to_rows(table, main_var, cols_to_select, renamer_5)\n",
    "    \n",
    "    # Для центральних офісів політичних партій legal_entity_region –> “Україна”\n",
    "    t.loc[t.officeType == 'Центральний офіс', 'legal_entity_region'] = 'Україна'\n",
    "\n",
    "    # sort columns\n",
    "    sorter = [x for x in list(renamer_5.values())+['party_main_name','party_main_EDRPOU','report_id']  if x in t.columns]\n",
    "    t = t[sorter]\n",
    "\n",
    "    # clean t['object_owner_name']\n",
    "    var_to_clean = 'object_owner'\n",
    "\n",
    "    t[var_to_clean] = t[var_to_clean].str.upper()\n",
    "    t[var_to_clean] = t[var_to_clean].str.replace('\\s+',' ', regex=True).str.strip()\n",
    "\n",
    "    # уніфікувати ФОП, ТОВ і ПАТ\n",
    "    org_name_clean(var_to_clean)\n",
    "\n",
    "    # уніфікувати апострофи в іменах\n",
    "    t[var_to_clean] = t[var_to_clean].replace(r\"(?<=\\w)[’\\\"\\`](?=\\w)\", \"\\'\", regex=True)\n",
    "\n",
    "    # replace ocassional english letters\n",
    "    t.loc[t[var_to_clean].str.contains('[А-Я]', na=False),var_to_clean] = t.loc[t[var_to_clean].str.contains('[А-Я]', na=False),var_to_clean].str.replace('C','С').str.replace('I','І')\n",
    "\n",
    "    save_as_excel(t, filename, full_update)\n"
   ]
  },
  {
   "cell_type": "markdown",
   "metadata": {},
   "source": [
    "### Таблиця 6: зведена інформація про автотранспорт політичної партії (propertyTransport)"
   ]
  },
  {
   "cell_type": "code",
   "execution_count": 37,
   "metadata": {},
   "outputs": [],
   "source": [
    "cols_to_select = ['officeType','types','period', 'year','partyName','partyCode', 'partyLocationRegion', \n",
    "                  'party_main_name','party_main_EDRPOU','report_id']\n",
    "\n",
    "main_var = 'propertyTransport'\n",
    "\n",
    "filename = '3.3_vehicles'"
   ]
  },
  {
   "cell_type": "code",
   "execution_count": 38,
   "metadata": {},
   "outputs": [],
   "source": [
    "table = subset_table(r_df, main_var, cols_to_select)\n",
    "\n",
    "if len(table) > 0:\n",
    "\n",
    "    t = list_to_rows(table, main_var, cols_to_select, renamer_6)\n",
    "\n",
    "    # sort columns\n",
    "    sorter = [x for x in list(renamer_6.values())+['party_main_name','party_main_EDRPOU','report_id']  if x in t.columns]\n",
    "    t = t[sorter]\n",
    "\n",
    "    # Для центральних офісів політичних партій legal_entity_region –> “Україна”\n",
    "    t.loc[t.officeType == 'Центральний офіс', 'legal_entity_region'] = 'Україна'\n",
    "\n",
    "    # delete empty\n",
    "    t = t[(t.object_type.notna())&(t.object_brand.notna())]\n",
    "\n",
    "    # Якщо object_owner_edrpou це код партії чи осередку то у object_owner_type ставити “Партійний осередок”\n",
    "    t = check_edrpou_for_party(t, 'object_owner_edrpou', 'object_owner_type')\n",
    "\n",
    "    # clean t['object_owner']\n",
    "    var_to_clean = 'object_owner'\n",
    "    t[var_to_clean] = t[var_to_clean].str.upper()\n",
    "    t[var_to_clean] = t[var_to_clean].str.replace('\\s+',' ', regex=True).str.strip()\n",
    "\n",
    "    # уніфікувати ФОП, ТОВ і ПАТ\n",
    "    org_name_clean(var_to_clean)\n",
    "\n",
    "    # уніфікувати апострофи в іменах\n",
    "    t[var_to_clean] = t[var_to_clean].replace(r\"(?<=\\w)[’\\\"\\`](?=\\w)\", \"\\'\", regex=True)\n",
    "\n",
    "    # replace ocassional english letters\n",
    "    t.loc[t[var_to_clean].str.contains('[А-Я]', na=False),var_to_clean] = t.loc[t[var_to_clean].str.contains('[А-Я]', na=False),var_to_clean].str.replace('C','С').str.replace('I','І')\n",
    "\n",
    "    save_as_excel(t, filename, full_update)\n"
   ]
  },
  {
   "cell_type": "markdown",
   "metadata": {},
   "source": [
    "### Таблиця 7: зведена інформація про цінні папери політичної партії (propertyPapers)"
   ]
  },
  {
   "cell_type": "code",
   "execution_count": 39,
   "metadata": {},
   "outputs": [],
   "source": [
    "cols_to_select = ['officeType','types','period', 'year','partyName','partyCode', 'partyLocationRegion',\n",
    "                  'party_main_name','party_main_EDRPOU','report_id']\n",
    "\n",
    "main_var = 'propertyPapers'\n",
    "\n",
    "filename = '3.4_securities'"
   ]
  },
  {
   "cell_type": "code",
   "execution_count": 40,
   "metadata": {},
   "outputs": [
    {
     "data": {
      "text/plain": [
       "0"
      ]
     },
     "execution_count": 40,
     "metadata": {},
     "output_type": "execute_result"
    }
   ],
   "source": [
    "table = subset_table(r_df, main_var, cols_to_select)\n",
    "len(table)"
   ]
  },
  {
   "cell_type": "code",
   "execution_count": 41,
   "metadata": {},
   "outputs": [],
   "source": [
    "if len(table) > 0:\n",
    "    t = list_to_rows(table, main_var, cols_to_select, renamer_7)\n",
    "\n",
    "    if len(t) > 0:\n",
    "        # sort columns\n",
    "        sorter = [x for x in list(renamer_7.values())+['party_main_name','party_main_EDRPOU','report_id']  if x in t.columns]\n",
    "        t = t[sorter]\n",
    "\n",
    "        # Для центральних офісів політичних партій legal_entity_region –> “Україна”\n",
    "        t.loc[t.officeType == 'Центральний офіс', 'legal_entity_region'] = 'Україна'\n",
    "\n",
    "        # save\n",
    "        save_as_excel(t, filename, full_update)\n",
    "\n",
    "\n",
    "    elif len(t) == 0:\n",
    "        # create columns if t is empty\n",
    "        t = pd.DataFrame(columns=list(renamer_7.values())+['party_main_name','party_main_EDRPOU','report_id'])\n",
    "        save_as_excel(t, filename, full_update)\n",
    "\n",
    "else:\n",
    "    # create columns if table is empty\n",
    "    t = pd.DataFrame(columns=list(renamer_7.values())+['party_main_name','party_main_EDRPOU','report_id'])\n",
    "    save_as_excel(t, filename, full_update)\n",
    "    \n",
    "    \n",
    "    "
   ]
  },
  {
   "cell_type": "markdown",
   "metadata": {},
   "source": [
    "### Таблиця 8: зведена інформація про інше майно та нематеріальні активи політичної партії (propertyNoMoney)"
   ]
  },
  {
   "cell_type": "code",
   "execution_count": 42,
   "metadata": {},
   "outputs": [],
   "source": [
    "cols_to_select = ['officeType','types','period', 'year','partyName','partyCode', 'partyLocationRegion', \n",
    "                  'party_main_name','party_main_EDRPOU','report_id']\n",
    "\n",
    "main_var = 'propertyNoMoney'\n",
    "\n",
    "filename = '3.5_intangible_assets'"
   ]
  },
  {
   "cell_type": "code",
   "execution_count": 43,
   "metadata": {},
   "outputs": [],
   "source": [
    "table = subset_table(r_df, main_var, cols_to_select)\n",
    "if len(table) > 0:\n",
    "\n",
    "    t = list_to_rows(table, main_var, cols_to_select, renamer_8)\n",
    "\n",
    "    # Для центральних офісів політичних партій legal_entity_region –> “Україна”\n",
    "    t.loc[t.officeType == 'Центральний офіс', 'legal_entity_region'] = 'Україна'\n",
    "\n",
    "    save_as_excel(t, filename, full_update)"
   ]
  },
  {
   "cell_type": "markdown",
   "metadata": {},
   "source": [
    "### Таблиця 9: зведена інформація про банківські рахунки політичної партії (propertyMoney)"
   ]
  },
  {
   "cell_type": "code",
   "execution_count": 44,
   "metadata": {},
   "outputs": [],
   "source": [
    "cols_to_select = ['officeType','types','period', 'year','partyName','partyCode', 'partyLocationRegion', \n",
    "                  'party_main_name','party_main_EDRPOU','report_id']\n",
    "\n",
    "main_var = 'propertyMoney'\n",
    "\n",
    "filename = '4_bank_accounts'"
   ]
  },
  {
   "cell_type": "code",
   "execution_count": 45,
   "metadata": {},
   "outputs": [
    {
     "name": "stderr",
     "output_type": "stream",
     "text": [
      "/var/folders/7x/nddt8r3s795cdr4ndj4l1tl00000gn/T/ipykernel_56305/1600581565.py:16: FutureWarning: DataFrame.applymap has been deprecated. Use DataFrame.map instead.\n",
      "  t = t.applymap(replace_stars)\n"
     ]
    }
   ],
   "source": [
    "table = subset_table(r_df, main_var, cols_to_select)\n",
    "\n",
    "if len(table) > 0:\n",
    "\n",
    "    t = list_to_rows(table, main_var, cols_to_select, renamer_9)\n",
    "\n",
    "    t['account_number'] = clean_bank_account(t['account_number'])\n",
    "\n",
    "    # check if any are longer than 29\n",
    "    t['account_number'].apply(lambda x: len(x)).value_counts()\n",
    "\n",
    "    # t[t.account_number.apply(lambda x: len(x)>29)]\n",
    "\n",
    "    # Для центральних офісів політичних партій legal_entity_region –> “Україна”\n",
    "    t.loc[t.officeType == 'Центральний офіс', 'legal_entity_region'] = 'Україна'\n",
    "\n",
    "    save_as_excel(t, filename, full_update)\n"
   ]
  },
  {
   "cell_type": "markdown",
   "metadata": {},
   "source": [
    "### Таблиця 10: зведена інформація про приватні грошові внески на рахунки політичної партії (contributionConMoney)  "
   ]
  },
  {
   "cell_type": "code",
   "execution_count": 46,
   "metadata": {},
   "outputs": [],
   "source": [
    "cols_to_select = ['officeType','types','period', 'year','partyName','partyCode', 'party_main_name','party_main_EDRPOU',\n",
    "                  'partyLocationRegion','report_id']\n",
    "\n",
    "main_var = 'contributionConMoney'\n",
    "\n",
    "filename = '5_private_contributions'"
   ]
  },
  {
   "cell_type": "code",
   "execution_count": 47,
   "metadata": {},
   "outputs": [],
   "source": [
    "table = subset_table(r_df, main_var, cols_to_select)\n",
    "if len(table) > 0:\n",
    "    t = list_to_rows(table, main_var, cols_to_select, renamer_10)\n",
    "\n",
    "    # delete empty\n",
    "    t = t[(t.donor_name.notna())&(t.bank_edrpou.notna())]\n",
    "\n",
    "    # clean bank_account\n",
    "    t['bank_account'] = clean_bank_account(t['bank_account'])\n",
    "\n",
    "    # Якщо серед донорів зустрічаються партійні осередки чи центральний офіс політичної партії 'donor_type' замінити на “партійний осередок” (визначила по 'donor_edrpou')\n",
    "    t = check_edrpou_for_party(t, 'donor_edrpou', 'donor_type')\n",
    "\n",
    "    # Для центральних офісів політичних партій legal_entity_region –> “Україна”\n",
    "    t.loc[t.officeType == 'Центральний офіс', 'legal_entity_region'] = 'Україна'\n",
    "\n",
    "    # sort columns\n",
    "    t = t[list(renamer_10.values())+['party_main_name','party_main_EDRPOU','report_id']]\n",
    "\n",
    "    # clean t['donor_name']\n",
    "    var_to_clean = 'donor_name'\n",
    "\n",
    "    t[var_to_clean] = t[var_to_clean].str.upper()\n",
    "    t[var_to_clean] = t[var_to_clean].str.replace('\\s+',' ', regex=True).str.strip()\n",
    "\n",
    "    # уніфікувати ФОП, ТОВ і ПАТ\n",
    "    org_name_clean(var_to_clean)\n",
    "\n",
    "    # уніфікувати апострофи в іменах\n",
    "    t[var_to_clean] = t[var_to_clean].replace(r\"(?<=\\w)[’\\\"\\`](?=\\w)\", \"\\'\", regex=True)\n",
    "\n",
    "    # replace ocassional english letters\n",
    "    t.loc[t[var_to_clean].str.contains('[А-Я]', na=False),var_to_clean] = t.loc[t[var_to_clean].str.contains('[А-Я]', na=False),var_to_clean].str.replace('C','С').str.replace('I','І')\n",
    "\n",
    "    save_as_excel(t, filename, full_update)"
   ]
  },
  {
   "cell_type": "markdown",
   "metadata": {},
   "source": [
    "### Таблиця 11: зведена інформація про негрошові внески на користь політичної партії (contributionOtherCon)"
   ]
  },
  {
   "cell_type": "code",
   "execution_count": 48,
   "metadata": {},
   "outputs": [],
   "source": [
    "\n",
    "cols_to_select = ['officeType','types','period', 'year','partyName','partyCode', 'party_main_name','party_main_EDRPOU','partyLocationRegion','report_id']\n",
    "\n",
    "main_var = 'contributionOtherCon'\n",
    "\n",
    "filename = '6_in_kind_donations'"
   ]
  },
  {
   "cell_type": "code",
   "execution_count": 49,
   "metadata": {},
   "outputs": [],
   "source": [
    "table = subset_table(r_df, main_var, cols_to_select)\n",
    "if len(table) > 0:\n",
    "\n",
    "    t = list_to_rows(table, main_var, cols_to_select, renamer_11)\n",
    "\n",
    "    # delete empty\n",
    "    t = t[(t.donor_name.notna())&(t.donor_type.notna())]\n",
    "\n",
    "    # Якщо серед донорів зустрічаються партійні осередки чи центральний офіс політичної партії 'donor_type' замінила на “партійний осередок” (визначила по 'donor_edrpou')\n",
    "\n",
    "    t.loc[(t.donor_edrpou.isin(party_list.code.tolist()))|\n",
    "        (t.donor_edrpou.isin(party_region_list.local_org_EDRPOU.tolist())), \n",
    "        'donor_type'] = 'Партійний осередок'\n",
    "\n",
    "    # donor_edrpou delete *\n",
    "    t.loc[t.donor_edrpou.str.contains('\\*',na=False),'donor_edrpou'] = None\n",
    "    t.loc[t.donor_birth_date.str.contains('\\*',na=False),'donor_birth_date'] = None\n",
    "    t.loc[t.object_registration_number.str.contains('\\*',na=False),'object_registration_number'] = None\n",
    "\n",
    "    # Для центральних офісів політичних партій legal_entity_region –> “Україна”\n",
    "\n",
    "    t.loc[t.officeType == 'Центральний офіс', 'legal_entity_region'] = 'Україна'\n",
    "\n",
    "    # clean t['donor_name']\n",
    "    var_to_clean = 'donor_name'\n",
    "\n",
    "    t[var_to_clean] = t[var_to_clean].str.upper()\n",
    "    t[var_to_clean] = t[var_to_clean].str.replace('\\s+',' ', regex=True).str.strip()\n",
    "\n",
    "    # уніфікувати ФОП, ТОВ і ПАТ\n",
    "    org_name_clean(var_to_clean)\n",
    "\n",
    "    # уніфікувати апострофи в іменах\n",
    "    t[var_to_clean] = t[var_to_clean].replace(r\"(?<=\\w)[’\\\"\\`](?=\\w)\", \"\\'\", regex=True)\n",
    "\n",
    "    # replace ocassional english letters\n",
    "    t.loc[t[var_to_clean].str.contains('[А-Я]', na=False),var_to_clean] = t.loc[t[var_to_clean].str.contains('[А-Я]', na=False),var_to_clean].str.replace('C','С').str.replace('I','І')\n",
    "\n",
    "    save_as_excel(t, filename, full_update)"
   ]
  },
  {
   "cell_type": "markdown",
   "metadata": {},
   "source": [
    "### Таблиця 12: зведена інформація про кошти державного фінансування виплачені політичним партіям (contributionCosts)\n",
    "Завдання: об'єднати всі дані щодо коштів державного фінансування отриманих\n",
    "партіями. Також, потрібно почистити costs3/bank_account (пробіли, зайві символи).  \n",
    "  \n",
    "Назва файлу: 7_state_funding_transactions"
   ]
  },
  {
   "cell_type": "code",
   "execution_count": 50,
   "metadata": {},
   "outputs": [],
   "source": [
    "cols_to_select = ['officeType','types','period', 'year','partyName','partyCode', 'party_main_name','party_main_EDRPOU','report_id']\n",
    "\n",
    "main_var = 'contributionCosts'\n",
    "\n",
    "filename = '7_state_funding_transactions'"
   ]
  },
  {
   "cell_type": "code",
   "execution_count": 51,
   "metadata": {},
   "outputs": [],
   "source": [
    "table = subset_table(r_df, main_var, cols_to_select)\n",
    "if len(table) > 0:\n",
    "    t = list_to_rows(table, main_var, cols_to_select, renamer_12)\n",
    "\n",
    "    # convert refund_sum to numeric\n",
    "    t['transaction_sum'] = t['transaction_sum'].astype(int)\n",
    "\n",
    "    t['bank_account'] = clean_bank_account(t['bank_account'])\n",
    "\n",
    "    # sort columns\n",
    "    t = t[list(renamer_12.values()) + ['party_main_name','party_main_EDRPOU','report_id']]\n",
    "\n",
    "    save_as_excel(t, filename, full_update)"
   ]
  },
  {
   "cell_type": "markdown",
   "metadata": {},
   "source": [
    "### Таблиця 13: зведена інформація про інші грошові надходження на рахунки політичних партій (contributionOtherCosts)"
   ]
  },
  {
   "cell_type": "code",
   "execution_count": 52,
   "metadata": {},
   "outputs": [],
   "source": [
    "cols_to_select = ['officeType','types','period', 'year','partyName','partyCode', 'partyLocationRegion',\n",
    "                  'party_main_name','party_main_EDRPOU','report_id']\n",
    "\n",
    "main_var = 'contributionOtherCosts'\n",
    "\n",
    "filename = '8_other_income'"
   ]
  },
  {
   "cell_type": "code",
   "execution_count": 53,
   "metadata": {},
   "outputs": [],
   "source": [
    "table = subset_table(r_df, main_var, cols_to_select)\n",
    "if len(table) > 0:\n",
    "\n",
    "    t = list_to_rows(table, main_var, cols_to_select, renamer_13)\n",
    "    t['bank_account'] = clean_bank_account(t['bank_account'])\n",
    "\n",
    "    # Для центральних офісів політичних партій legal_entity_region –> “Україна”\n",
    "    t.loc[t.officeType == 'Центральний офіс', 'legal_entity_region'] = 'Україна'\n",
    "\n",
    "    # clean t['sender_name']\n",
    "    var_to_clean = 'sender_name'\n",
    "\n",
    "    t[var_to_clean] = t[var_to_clean].str.upper()\n",
    "    t[var_to_clean] = t[var_to_clean].str.replace('\\s+',' ', regex=True).str.strip()\n",
    "\n",
    "    # уніфікувати ФОП, ТОВ і ПАТ\n",
    "    org_name_clean(var_to_clean)\n",
    "\n",
    "    # уніфікувати апострофи в іменах\n",
    "    t[var_to_clean] = t[var_to_clean].replace(r\"(?<=\\w)[’\\\"\\`](?=\\w)\", \"\\'\", regex=True)\n",
    "\n",
    "    # replace ocassional english letters\n",
    "    t.loc[t[var_to_clean].str.contains('[А-Я]', na=False),var_to_clean] = t.loc[t[var_to_clean].str.contains('[А-Я]', na=False),var_to_clean].str.replace('C','С').str.replace('I','І')\n",
    "\n",
    "    save_as_excel(t, filename, full_update)"
   ]
  },
  {
   "cell_type": "markdown",
   "metadata": {},
   "source": [
    "### Таблиця 14: зведена інформація про витрати державного фінансування політичних партій (paymentGov)"
   ]
  },
  {
   "cell_type": "code",
   "execution_count": 54,
   "metadata": {},
   "outputs": [],
   "source": [
    "cols_to_select = ['officeType','types','period', 'year','partyName','partyCode', 'party_main_name','party_main_EDRPOU',\n",
    "                  'partyLocationRegion','report_id']\n",
    "\n",
    "main_var = 'paymentGov'\n",
    "\n",
    "filename = '9.1_expenditures_public_funding'"
   ]
  },
  {
   "cell_type": "code",
   "execution_count": 55,
   "metadata": {},
   "outputs": [],
   "source": [
    "table = subset_table(r_df, main_var, cols_to_select)\n",
    "if len(table) > 0:\n",
    "\n",
    "    t = list_to_rows(table, main_var, cols_to_select, renamer_14)\n",
    "\n",
    "    t['account_number'] = clean_bank_account(t['account_number'])\n",
    "\n",
    "    # Для центральних офісів політичних партій legal_entity_region –> “Україна”\n",
    "    t.loc[t.officeType == 'Центральний офіс', 'legal_entity_region'] = 'Україна'\n",
    "\n",
    "    # Якщо отримувач коштів є партійною структурою (recipient_EDRPOU), у recipient_type замінити позначку “Юридична особа/Фізична особа” на Партійний осередок.\n",
    "    t = check_edrpou_for_party(t, 'recipient_EDRPOU', 'recipient_type')\n",
    "\n",
    "    # clean t['recipient_name']\n",
    "    var_to_clean = 'recipient_name'\n",
    "    t[var_to_clean] = t[var_to_clean].str.upper()\n",
    "    t[var_to_clean] = t[var_to_clean].str.replace('\\s+',' ', regex=True).str.strip()\n",
    "\n",
    "    # уніфікувати ФОП, ТОВ і ПАТ\n",
    "    org_name_clean(var_to_clean)\n",
    "\n",
    "    # уніфікувати апострофи в іменах\n",
    "    t[var_to_clean] = t[var_to_clean].replace(r\"(?<=\\w)[’\\\"\\`](?=\\w)\", \"\\'\", regex=True)\n",
    "\n",
    "    # replace ocassional english letters\n",
    "    t.loc[t[var_to_clean].str.contains('[А-Я]', na=False),var_to_clean] = t.loc[t[var_to_clean].str.contains('[А-Я]', na=False),var_to_clean].str.replace('C','С').str.replace('I','І')\n",
    "\n",
    "    save_as_excel(t, filename, full_update)"
   ]
  },
  {
   "cell_type": "markdown",
   "metadata": {},
   "source": [
    "### Таблиця 15: зведена інформація про витрати з рахунків з приватним фінансуванням (paymentOther)"
   ]
  },
  {
   "cell_type": "code",
   "execution_count": 56,
   "metadata": {},
   "outputs": [],
   "source": [
    "cols_to_select = ['officeType','types','period', 'year','partyName','partyCode', 'party_main_name','party_main_EDRPOU','partyLocationRegion','report_id']\n",
    "\n",
    "main_var = 'paymentOther'\n",
    "\n",
    "filename = '9.2_expenditures_private_funds'"
   ]
  },
  {
   "cell_type": "code",
   "execution_count": 57,
   "metadata": {},
   "outputs": [
    {
     "name": "stderr",
     "output_type": "stream",
     "text": [
      "/var/folders/7x/nddt8r3s795cdr4ndj4l1tl00000gn/T/ipykernel_56305/1600581565.py:16: FutureWarning: DataFrame.applymap has been deprecated. Use DataFrame.map instead.\n",
      "  t = t.applymap(replace_stars)\n"
     ]
    }
   ],
   "source": [
    "table = subset_table(r_df, main_var, cols_to_select)\n",
    "if len(table) > 0:\n",
    "\n",
    "    t = list_to_rows(table, main_var, cols_to_select, renamer_15)\n",
    "\n",
    "    t['account_number'] = clean_bank_account(t['account_number'])\n",
    "\n",
    "    # Для центральних офісів політичних партій legal_entity_region –> “Україна”\n",
    "    t.loc[t.officeType == 'Центральний офіс', 'legal_entity_region'] = 'Україна'\n",
    "\n",
    "    # Якщо отримувач коштів є партійною структурою (recipient_EDRPOU), у recipient_type замінити позначку “Юридична особа/Фізична особа” на Партійний осередок.\n",
    "    t = check_edrpou_for_party(t, 'recipient_EDRPOU', 'recipient_type')\n",
    "\n",
    "    # delete empty\n",
    "    t = t[(t.bank_EDRPOU.notna())&(t.account_number.notna())]\n",
    "\n",
    "    # clean t['recipient_name']\n",
    "    var_to_clean = 'recipient_name'\n",
    "    t[var_to_clean] = t[var_to_clean].str.upper()\n",
    "    t[var_to_clean] = t[var_to_clean].str.replace('\\s+',' ', regex=True).str.strip()\n",
    "\n",
    "    # уніфікувати ФОП, ТОВ і ПАТ\n",
    "    org_name_clean(var_to_clean)\n",
    "\n",
    "    # уніфікувати апострофи в іменах\n",
    "    t[var_to_clean] = t[var_to_clean].replace(r\"(?<=\\w)[’\\\"\\`](?=\\w)\", \"\\'\", regex=True)\n",
    "\n",
    "    # replace ocassional english letters\n",
    "    t.loc[t[var_to_clean].str.contains('[А-Я]', na=False),var_to_clean] = t.loc[t[var_to_clean].str.contains('[А-Я]', na=False),var_to_clean].str.replace('C','С').str.replace('I','І')\n",
    "\n",
    "    save_as_excel(t, filename, full_update)"
   ]
  },
  {
   "cell_type": "markdown",
   "metadata": {},
   "source": [
    "### Таблиця 16: зведена інформація про отримання помилкових надходжень (paymentCostsPaymentReceive)"
   ]
  },
  {
   "cell_type": "code",
   "execution_count": 58,
   "metadata": {},
   "outputs": [],
   "source": [
    "cols_to_select = ['officeType','types','period', 'year','partyName','partyCode', 'partyLocationRegion',\n",
    "                  'party_main_name','party_main_EDRPOU','report_id']\n",
    "\n",
    "main_var = 'paymentCostsPaymentReceive'\n",
    "\n",
    "filename = '9.3_false_donations_info'"
   ]
  },
  {
   "cell_type": "code",
   "execution_count": 59,
   "metadata": {},
   "outputs": [],
   "source": [
    "table = subset_table(r_df, main_var, cols_to_select)\n",
    "if len(table) > 0:\n",
    "\n",
    "    t = list_to_rows(table, main_var, cols_to_select, renamer_16)\n",
    "\n",
    "    t['account_number'] = clean_bank_account(t['account_number'])\n",
    "\n",
    "    # Для центральних офісів політичних партій legal_entity_region –> “Україна”\n",
    "    t.loc[t.officeType == 'Центральний офіс', 'legal_entity_region'] = 'Україна'\n",
    "\n",
    "    # clean t['donor_name']\n",
    "    var_to_clean = 'donor_name'\n",
    "    t[var_to_clean] = t[var_to_clean].str.upper()\n",
    "    t[var_to_clean] = t[var_to_clean].str.replace('\\s+',' ', regex=True).str.strip()\n",
    "\n",
    "    # уніфікувати ФОП, ТОВ і ПАТ\n",
    "    org_name_clean(var_to_clean)\n",
    "\n",
    "    # уніфікувати апострофи в іменах\n",
    "    t[var_to_clean] = t[var_to_clean].replace(r\"(?<=\\w)[’\\\"\\`](?=\\w)\", \"\\'\", regex=True)\n",
    "\n",
    "    # replace ocassional english letters\n",
    "    t.loc[t[var_to_clean].str.contains('[А-Я]', na=False),var_to_clean] = t.loc[t[var_to_clean].str.contains('[А-Я]', na=False),var_to_clean].str.replace('C','С').str.replace('I','І')\n",
    "\n",
    "    save_as_excel(t, filename, full_update)"
   ]
  },
  {
   "cell_type": "markdown",
   "metadata": {},
   "source": [
    "### НЕ ІСНУЄ Таблиця 17: інформація про повернення внесків та помилкових надходжень (paymentCostsPaymentReturn)\n",
    "Завдання: обєднати всю інформацію про повернення помилкових внесків.  \n",
    "  \n",
    "Назва файлу: 9.4_false_donations_returning"
   ]
  },
  {
   "cell_type": "code",
   "execution_count": 60,
   "metadata": {},
   "outputs": [],
   "source": [
    "cols_to_select = ['officeType','types','period', 'year','partyName','partyCode', 'party_main_name','party_main_EDRPOU','report_id']\n",
    "\n",
    "main_var = 'paymentCostsPaymentReturn'\n",
    "\n",
    "filename = '9.4_false_donations_returning'"
   ]
  },
  {
   "cell_type": "code",
   "execution_count": 61,
   "metadata": {},
   "outputs": [
    {
     "data": {
      "text/plain": [
       "False"
      ]
     },
     "execution_count": 61,
     "metadata": {},
     "output_type": "execute_result"
    }
   ],
   "source": [
    "main_var in r_df.columns"
   ]
  },
  {
   "cell_type": "markdown",
   "metadata": {},
   "source": [
    "### Таблиця 18: інформація про отримання помилкових інших (негрошових) внесків (paymentOtherCostsPaymentReceive)"
   ]
  },
  {
   "cell_type": "code",
   "execution_count": 62,
   "metadata": {},
   "outputs": [],
   "source": [
    "cols_to_select = ['officeType','types','period', 'year','partyName','partyCode', 'partyLocationRegion', \n",
    "                  'party_main_name','party_main_EDRPOU','report_id']\n",
    "\n",
    "main_var = 'paymentOtherCostsPaymentReceive'\n",
    "\n",
    "filename = '9.5_false_in_kind_donations_info'"
   ]
  },
  {
   "cell_type": "code",
   "execution_count": 63,
   "metadata": {},
   "outputs": [],
   "source": [
    "table = subset_table(r_df, main_var, cols_to_select)\n",
    "if len(table) > 0:\n",
    "    t = list_to_rows(table, main_var, cols_to_select, renamer_18)\n",
    "\n",
    "    if len(t) == 0:\n",
    "        # create columns if t is empty\n",
    "        t = pd.DataFrame(columns=list(renamer_18.values())+['party_main_name','party_main_EDRPOU','report_id'])\n",
    "        save_as_excel(t, filename, full_update)\n",
    "\n",
    "    else:\n",
    "        # sort columns\n",
    "        sorter = [x for x in list(renamer_18.values())+['party_main_name','party_main_EDRPOU','report_id']  if x in t.columns]\n",
    "        t = t[sorter]\n",
    "\n",
    "        # Для центральних офісів політичних партій legal_entity_region –> “Україна”\n",
    "        t.loc[t.officeType == 'Центральний офіс', 'legal_entity_region'] = 'Україна'\n",
    "\n",
    "        # clean t['recipient_name']\n",
    "\n",
    "        var_to_clean = 'onor_name'\n",
    "\n",
    "        t[var_to_clean] = t[var_to_clean].str.upper()\n",
    "        t[var_to_clean] = t[var_to_clean].str.replace('\\s+',' ', regex=True).str.strip()\n",
    "\n",
    "        # уніфікувати ФОП, ТОВ і ПАТ\n",
    "        org_name_clean(var_to_clean)\n",
    "\n",
    "        # уніфікувати апострофи в іменах\n",
    "        t[var_to_clean] = t[var_to_clean].replace(r\"(?<=\\w)[’\\\"\\`](?=\\w)\", \"\\'\", regex=True)\n",
    "\n",
    "        # replace ocassional english letters\n",
    "        t.loc[t[var_to_clean].str.contains('[А-Я]', na=False),var_to_clean] = t.loc[t[var_to_clean].str.contains('[А-Я]', na=False),var_to_clean].str.replace('C','С').str.replace('I','І')\n",
    "\n",
    "        # save\n",
    "        save_as_excel(t, filename, full_update)\n",
    "\n",
    "else:\n",
    "    # create t\n",
    "    t = pd.DataFrame(columns=list(renamer_18.values())+['party_main_name','party_main_EDRPOU','report_id'])\n",
    "    save_as_excel(t, filename, full_update)\n",
    "        "
   ]
  },
  {
   "cell_type": "markdown",
   "metadata": {},
   "source": [
    "### НЕ ІСНУЄ Таблиця 19: інформація про отримання помилкових інших (негрошових) внесків (paymentOtherCostsPaymentReturn)"
   ]
  },
  {
   "cell_type": "code",
   "execution_count": 64,
   "metadata": {},
   "outputs": [],
   "source": [
    "cols_to_select = ['officeType','types','period', 'year','partyName','partyCode', 'party_main_name','party_main_EDRPOU','report_id']\n",
    "\n",
    "main_var = 'paymentOtherCostsPaymentReturn'\n",
    "\n",
    "filename = '9.5_false_in_kind_donations_returning'"
   ]
  },
  {
   "cell_type": "code",
   "execution_count": 65,
   "metadata": {},
   "outputs": [
    {
     "data": {
      "text/plain": [
       "False"
      ]
     },
     "execution_count": 65,
     "metadata": {},
     "output_type": "execute_result"
    }
   ],
   "source": [
    "main_var in r_df.columns"
   ]
  },
  {
   "cell_type": "markdown",
   "metadata": {},
   "source": [
    "### Таблиця 20: інформація про фінансові зобов'язання (obligate)"
   ]
  },
  {
   "cell_type": "code",
   "execution_count": 66,
   "metadata": {},
   "outputs": [],
   "source": [
    "cols_to_select = ['officeType','types','period', 'year','partyName','partyCode', 'partyLocationRegion',\n",
    "                  'party_main_name','party_main_EDRPOU','report_id']\n",
    "\n",
    "main_var = 'obligate'\n",
    "\n",
    "filename = '10_liabilities'"
   ]
  },
  {
   "cell_type": "code",
   "execution_count": 67,
   "metadata": {},
   "outputs": [],
   "source": [
    "table = subset_table(r_df, main_var, cols_to_select)\n",
    "if len(table) > 0:\n",
    "    t = list_to_rows(table, main_var, cols_to_select, renamer_20)\n",
    "\n",
    "    # Для центральних офісів політичних партій legal_entity_region –> “Україна”\n",
    "    t.loc[t.officeType == 'Центральний офіс', 'legal_entity_region'] = 'Україна'\n",
    "\n",
    "    # delete empty\n",
    "    t = t[t.name.notnull()]\n",
    "\n",
    "    # clean t['name']\n",
    "    var_to_clean = 'name'\n",
    "    t[var_to_clean] = t[var_to_clean].str.upper()\n",
    "    t[var_to_clean] = t[var_to_clean].str.replace('\\s+',' ', regex=True).str.strip()\n",
    "\n",
    "    # уніфікувати ФОП, ТОВ і ПАТ\n",
    "    org_name_clean(var_to_clean)\n",
    "\n",
    "    # уніфікувати апострофи в іменах\n",
    "    t[var_to_clean] = t[var_to_clean].replace(r\"(?<=\\w)[’\\\"\\`](?=\\w)\", \"\\'\", regex=True)\n",
    "\n",
    "    # replace ocassional english letters\n",
    "    t.loc[t[var_to_clean].str.contains('[А-Я]', na=False),var_to_clean] = t.loc[t[var_to_clean].str.contains('[А-Я]', na=False),var_to_clean].str.replace('C','С').str.replace('I','І')\n",
    "\n",
    "    save_as_excel(t, filename, full_update)\n"
   ]
  },
  {
   "cell_type": "code",
   "execution_count": 68,
   "metadata": {},
   "outputs": [
    {
     "name": "stdout",
     "output_type": "stream",
     "text": [
      "Done\n"
     ]
    }
   ],
   "source": [
    "print('Done')"
   ]
  },
  {
   "cell_type": "code",
   "execution_count": null,
   "metadata": {},
   "outputs": [],
   "source": []
  }
 ],
 "metadata": {
  "kernelspec": {
   "display_name": ".venv",
   "language": "python",
   "name": "python3"
  },
  "language_info": {
   "codemirror_mode": {
    "name": "ipython",
    "version": 3
   },
   "file_extension": ".py",
   "mimetype": "text/x-python",
   "name": "python",
   "nbconvert_exporter": "python",
   "pygments_lexer": "ipython3",
   "version": "3.10.11"
  }
 },
 "nbformat": 4,
 "nbformat_minor": 2
}
