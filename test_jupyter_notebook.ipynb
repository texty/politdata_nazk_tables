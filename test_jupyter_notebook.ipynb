{
 "cells": [
  {
   "cell_type": "code",
   "execution_count": 1,
   "metadata": {},
   "outputs": [],
   "source": [
    "# ! pip install openpyxl xlsxwriter requests pandas tqdm"
   ]
  },
  {
   "cell_type": "code",
   "execution_count": 2,
   "metadata": {},
   "outputs": [],
   "source": [
    "%load_ext autoreload\n",
    "%autoreload 1\n",
    "%aimport main_functions, table_functions\n",
    "\n",
    "import pandas as pd\n",
    "from datetime import datetime\n",
    "from main_functions import download_party_info, download_all_reports, party_name_cleaner, replace_stars\n",
    "from table_functions import table_0_1, table_0_2, table_1, table_2_1, table_2_2, table_3_1, table_3_2, table_3_3, table_3_4, table_3_5, table_4, table_5, table_6, table_7, table_8, table_9_1, table_9_2, table_9_3, table_9_5, table_10, files_where_to_look_for_local_parties"
   ]
  },
  {
   "cell_type": "code",
   "execution_count": 32,
   "metadata": {},
   "outputs": [
    {
     "data": {
      "text/html": [
       "<div>\n",
       "<style scoped>\n",
       "    .dataframe tbody tr th:only-of-type {\n",
       "        vertical-align: middle;\n",
       "    }\n",
       "\n",
       "    .dataframe tbody tr th {\n",
       "        vertical-align: top;\n",
       "    }\n",
       "\n",
       "    .dataframe thead th {\n",
       "        text-align: right;\n",
       "    }\n",
       "</style>\n",
       "<table border=\"1\" class=\"dataframe\">\n",
       "  <thead>\n",
       "    <tr style=\"text-align: right;\">\n",
       "      <th></th>\n",
       "      <th>obligation_type</th>\n",
       "      <th>reason</th>\n",
       "      <th>date_of_occurrence</th>\n",
       "      <th>name</th>\n",
       "      <th>edrpou</th>\n",
       "      <th>location</th>\n",
       "      <th>obligations_sum</th>\n",
       "      <th>amount_not_yet_paid</th>\n",
       "      <th>type</th>\n",
       "      <th>officeType</th>\n",
       "      <th>report_type</th>\n",
       "      <th>report_period</th>\n",
       "      <th>report_year</th>\n",
       "      <th>legal_entity_name</th>\n",
       "      <th>legal_entity_edrpou</th>\n",
       "      <th>legal_entity_region</th>\n",
       "      <th>party_main_name</th>\n",
       "      <th>party_main_EDRPOU</th>\n",
       "      <th>report_id</th>\n",
       "    </tr>\n",
       "  </thead>\n",
       "  <tbody>\n",
       "    <tr>\n",
       "      <th>6</th>\n",
       "      <td>Рекламні послуги</td>\n",
       "      <td>Рахунок №д-0022 від 31.03.2021р.</td>\n",
       "      <td>31.03.2021</td>\n",
       "      <td>ДЯЧЕНКО СТАНІСЛАВ ОЛЕКСАНДРОВИЧ ФОП</td>\n",
       "      <td>**********</td>\n",
       "      <td>дніпропетровська область</td>\n",
       "      <td>9690.0</td>\n",
       "      <td>9690.0</td>\n",
       "      <td>Фізична особа</td>\n",
       "      <td>Центральний офіс</td>\n",
       "      <td>Основний</td>\n",
       "      <td>1 квартал</td>\n",
       "      <td>2021</td>\n",
       "      <td>ПОЛІТИЧНА ПАРТІЯ «БДЖОЛА»</td>\n",
       "      <td>38010759</td>\n",
       "      <td>Україна</td>\n",
       "      <td>БДЖОЛА</td>\n",
       "      <td>38010759</td>\n",
       "      <td>2ac2e420-7f41-11ec-bdbe-3bf689b2cb33</td>\n",
       "    </tr>\n",
       "    <tr>\n",
       "      <th>7</th>\n",
       "      <td>Рекламні послуги</td>\n",
       "      <td>Рахунок №СФ-0000257/26 від 31.01.2021р.</td>\n",
       "      <td>31.01.2021</td>\n",
       "      <td>ТОВ ЗОВНІШНЬОТОРГОВА ФІРМА \"МІКОМП\"</td>\n",
       "      <td>21873749</td>\n",
       "      <td>Україна, 51938, Дніпропетровська обл., місто К...</td>\n",
       "      <td>400.0</td>\n",
       "      <td>400.0</td>\n",
       "      <td>Юридична особа</td>\n",
       "      <td>Центральний офіс</td>\n",
       "      <td>Основний</td>\n",
       "      <td>1 квартал</td>\n",
       "      <td>2021</td>\n",
       "      <td>ПОЛІТИЧНА ПАРТІЯ «БДЖОЛА»</td>\n",
       "      <td>38010759</td>\n",
       "      <td>Україна</td>\n",
       "      <td>БДЖОЛА</td>\n",
       "      <td>38010759</td>\n",
       "      <td>2ac2e420-7f41-11ec-bdbe-3bf689b2cb33</td>\n",
       "    </tr>\n",
       "  </tbody>\n",
       "</table>\n",
       "</div>"
      ],
      "text/plain": [
       "    obligation_type                                   reason  \\\n",
       "6  Рекламні послуги         Рахунок №д-0022 від 31.03.2021р.   \n",
       "7  Рекламні послуги  Рахунок №СФ-0000257/26 від 31.01.2021р.   \n",
       "\n",
       "  date_of_occurrence                                 name      edrpou  \\\n",
       "6         31.03.2021  ДЯЧЕНКО СТАНІСЛАВ ОЛЕКСАНДРОВИЧ ФОП  **********   \n",
       "7         31.01.2021  ТОВ ЗОВНІШНЬОТОРГОВА ФІРМА \"МІКОМП\"    21873749   \n",
       "\n",
       "                                            location  obligations_sum  \\\n",
       "6                           дніпропетровська область           9690.0   \n",
       "7  Україна, 51938, Дніпропетровська обл., місто К...            400.0   \n",
       "\n",
       "   amount_not_yet_paid            type        officeType report_type  \\\n",
       "6               9690.0   Фізична особа  Центральний офіс    Основний   \n",
       "7                400.0  Юридична особа  Центральний офіс    Основний   \n",
       "\n",
       "  report_period  report_year          legal_entity_name  legal_entity_edrpou  \\\n",
       "6     1 квартал         2021  ПОЛІТИЧНА ПАРТІЯ «БДЖОЛА»             38010759   \n",
       "7     1 квартал         2021  ПОЛІТИЧНА ПАРТІЯ «БДЖОЛА»             38010759   \n",
       "\n",
       "  legal_entity_region party_main_name  party_main_EDRPOU  \\\n",
       "6             Україна          БДЖОЛА           38010759   \n",
       "7             Україна          БДЖОЛА           38010759   \n",
       "\n",
       "                              report_id  \n",
       "6  2ac2e420-7f41-11ec-bdbe-3bf689b2cb33  \n",
       "7  2ac2e420-7f41-11ec-bdbe-3bf689b2cb33  "
      ]
     },
     "execution_count": 32,
     "metadata": {},
     "output_type": "execute_result"
    }
   ],
   "source": [
    "df = pd.read_excel('data/excel_tables/10_liabilities.xlsx')\n",
    "df.loc[6:7]"
   ]
  },
  {
   "cell_type": "code",
   "execution_count": null,
   "metadata": {},
   "outputs": [],
   "source": []
  },
  {
   "cell_type": "code",
   "execution_count": null,
   "metadata": {},
   "outputs": [],
   "source": []
  },
  {
   "cell_type": "code",
   "execution_count": 3,
   "metadata": {},
   "outputs": [],
   "source": [
    "# !!! set to True if you want to update all data from the very beginning\n",
    "full_update = True"
   ]
  },
  {
   "cell_type": "markdown",
   "metadata": {},
   "source": [
    "## Download party info"
   ]
  },
  {
   "cell_type": "code",
   "execution_count": 4,
   "metadata": {},
   "outputs": [],
   "source": [
    "party_list, party_region_list = download_party_info()"
   ]
  },
  {
   "cell_type": "markdown",
   "metadata": {},
   "source": [
    "## Download all reports"
   ]
  },
  {
   "cell_type": "code",
   "execution_count": 5,
   "metadata": {},
   "outputs": [
    {
     "name": "stderr",
     "output_type": "stream",
     "text": [
      "100%|██████████| 827/827 [04:37<00:00,  2.98it/s]\n"
     ]
    }
   ],
   "source": [
    "r_df = download_all_reports(full_update)"
   ]
  },
  {
   "cell_type": "code",
   "execution_count": 6,
   "metadata": {},
   "outputs": [],
   "source": [
    "r_df = party_name_cleaner(r_df, party_variable = 'party_main_name')"
   ]
  },
  {
   "cell_type": "markdown",
   "metadata": {},
   "source": [
    "## Tables"
   ]
  },
  {
   "cell_type": "code",
   "execution_count": 7,
   "metadata": {},
   "outputs": [
    {
     "name": "stderr",
     "output_type": "stream",
     "text": [
      "/home/yd/2024-04_IFES_NAZK/politdata_nazk_tables/table_functions.py:41: SettingWithCopyWarning: \n",
      "A value is trying to be set on a copy of a slice from a DataFrame.\n",
      "Try using .loc[row_indexer,col_indexer] = value instead\n",
      "\n",
      "See the caveats in the documentation: https://pandas.pydata.org/pandas-docs/stable/user_guide/indexing.html#returning-a-view-versus-a-copy\n",
      "  table_subset['reported_period'] = table_subset['report_year'].astype(str) + ', ' + table_subset['report_period']\n"
     ]
    }
   ],
   "source": [
    "### Таблиця 0.1: Перевірка на наявність дублів\n",
    "table_0_1(r_df, full_update)\n",
    "\n",
    "### Таблиця 1: загальна інформація про партію/осередок\n",
    "table_1(r_df, full_update)\n",
    "\n",
    "### Таблиця 0.2: Інформація про те, за який період кожна партія подала звіти\n",
    "table_0_2()\n",
    "\n",
    "### Таблиця 2: інформація про осередки політичної партії  \n",
    "table_2_1(r_df, full_update)\n",
    "\n",
    "### Таблиця 3: інформація про інші підприємства, установи та організації створені партією політичної партії\n",
    "table_2_2(r_df, full_update)\n",
    "\n",
    "### Таблиця 4: зведена інформація про нерухоме майно політичної партії (propertyObjects)\n",
    "table_3_1(r_df, full_update)\n",
    "\n",
    "### Таблиця 5: зведена інформація про рухоме майно політичної партії (propertyMovables)\n",
    "table_3_2(r_df, full_update)\n",
    "\n",
    "### Таблиця 6: зведена інформація про автотранспорт політичної партії (propertyTransport)\n",
    "table_3_3(r_df, full_update, party_list, party_region_list)\n",
    "\n",
    "### Таблиця 7: зведена інформація про цінні папери політичної партії (propertyPapers)\n",
    "table_3_4(r_df, full_update)\n",
    "\n",
    "### Таблиця 8: зведена інформація про інше майно та нематеріальні активи політичної партії (propertyNoMoney)\n",
    "table_3_5(r_df, full_update)\n",
    "\n",
    "### Таблиця 9: зведена інформація про банківські рахунки політичної партії (propertyMoney)\n",
    "table_4(r_df, full_update)\n",
    "\n",
    "### Таблиця 10: зведена інформація про приватні грошові внески на рахунки політичної партії (contributionConMoney)  \n",
    "table_5(r_df, full_update, party_list, party_region_list)\n",
    "\n",
    "### Таблиця 11: зведена інформація про негрошові внески на користь політичної партії (contributionOtherCon)\n",
    "table_6(r_df, full_update, party_list, party_region_list)\n",
    "\n",
    "### Таблиця 12: зведена інформація про кошти державного фінансування виплачені політичним партіям (contributionCosts)\n",
    "table_7(r_df, full_update)\n",
    "\n",
    "### Таблиця 13: зведена інформація про інші грошові надходження на рахунки політичних партій (contributionOtherCosts)\n",
    "table_8(r_df, full_update)\n",
    "\n",
    "### Таблиця 14: зведена інформація про витрати державного фінансування політичних партій (paymentGov)\n",
    "table_9_1(r_df, full_update, party_list, party_region_list)\n",
    "\n",
    "### Таблиця 15: зведена інформація про витрати з рахунків з приватним фінансуванням (paymentOther)\n",
    "table_9_2(r_df, full_update, party_list, party_region_list)\n",
    "\n",
    "### Таблиця 16: зведена інформація про отримання помилкових надходжень (paymentCostsPaymentReceive)\n",
    "table_9_3(r_df, full_update)\n",
    "\n",
    "### НЕ ІСНУЄ Таблиця 17: інформація про повернення внесків та помилкових надходжень (paymentCostsPaymentReturn)\n",
    "\n",
    "### Таблиця 18: інформація про отримання помилкових інших (негрошових) внесків (paymentOtherCostsPaymentReceive)\n",
    "table_9_5(r_df, full_update)\n",
    "\n",
    "### НЕ ІСНУЄ Таблиця 19: інформація про отримання помилкових інших (негрошових) внесків (paymentOtherCostsPaymentReturn)\n",
    "\n",
    "### Таблиця 20: інформація про фінансові зобов'язання (obligate)\n",
    "table_10(r_df, full_update)\n",
    "\n",
    "### Перевірити в яких файлах є які партії\n",
    "files_where_to_look_for_local_parties()"
   ]
  },
  {
   "cell_type": "code",
   "execution_count": 4,
   "metadata": {},
   "outputs": [],
   "source": [
    "# Додати в readme дату і час останнього оновлення\n",
    "\n",
    "now = datetime.now().strftime(\"%Y-%m-%d %H:%M\")\n",
    "\n",
    "with open('README.md', 'r') as file:\n",
    "    data = file.readlines()\n",
    "    data = [x for x in data if not x.startswith(\"**Останнє оновлення:\")]\n",
    "    data.append(f\"**Останнє оновлення: {now}**\\n\")\n",
    "with open('README.md', 'w') as file:\n",
    "    file.writelines(data)"
   ]
  },
  {
   "cell_type": "code",
   "execution_count": null,
   "metadata": {},
   "outputs": [],
   "source": []
  }
 ],
 "metadata": {
  "kernelspec": {
   "display_name": ".venv",
   "language": "python",
   "name": "python3"
  },
  "language_info": {
   "codemirror_mode": {
    "name": "ipython",
    "version": 3
   },
   "file_extension": ".py",
   "mimetype": "text/x-python",
   "name": "python",
   "nbconvert_exporter": "python",
   "pygments_lexer": "ipython3",
   "version": "3.9.6"
  }
 },
 "nbformat": 4,
 "nbformat_minor": 2
}
