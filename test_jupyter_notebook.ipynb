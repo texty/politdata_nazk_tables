{
 "cells": [
  {
   "cell_type": "code",
   "execution_count": 1,
   "metadata": {},
   "outputs": [],
   "source": [
    "# ! pip install openpyxl xlsxwriter requests pandas tqdm"
   ]
  },
  {
   "cell_type": "code",
   "execution_count": 54,
   "metadata": {},
   "outputs": [
    {
     "name": "stdout",
     "output_type": "stream",
     "text": [
      "The autoreload extension is already loaded. To reload it, use:\n",
      "  %reload_ext autoreload\n"
     ]
    }
   ],
   "source": [
    "%load_ext autoreload\n",
    "%autoreload 1\n",
    "%aimport main_functions, table_functions\n",
    "\n",
    "import pandas as pd\n",
    "import os\n",
    "from datetime import datetime\n",
    "from main_functions import download_party_info, download_all_reports, party_name_cleaner, replace_stars\n",
    "from table_functions import table_0_1, table_0_2, table_1, table_2_1, table_2_2, table_3_1, table_3_2, table_3_3, table_3_4, table_3_5, table_4, table_5, table_6, table_7, table_8, table_9_1, table_9_2, table_9_3, table_9_5, table_10, files_where_to_look_for_local_parties\n",
    "from data.data_for_downloader.renamers import renamer_1\n",
    "import requests"
   ]
  },
  {
   "cell_type": "code",
   "execution_count": 2,
   "metadata": {},
   "outputs": [],
   "source": [
    "# !!! set to True if you want to update all data from the very beginning\n",
    "full_update = True"
   ]
  },
  {
   "cell_type": "code",
   "execution_count": 3,
   "metadata": {},
   "outputs": [
    {
     "name": "stderr",
     "output_type": "stream",
     "text": [
      "100%|██████████| 1209/1209 [07:15<00:00,  2.78it/s]\n"
     ]
    }
   ],
   "source": [
    "## Download party info\n",
    "party_list, party_region_list = download_party_info()\n",
    "\n",
    "\n",
    "## Download all reports\n",
    "r_df = download_all_reports(full_update)"
   ]
  },
  {
   "cell_type": "code",
   "execution_count": 24,
   "metadata": {},
   "outputs": [],
   "source": [
    "r_df = party_name_cleaner(r_df, party_variable = 'party_main_name')"
   ]
  },
  {
   "cell_type": "code",
   "execution_count": 50,
   "metadata": {},
   "outputs": [],
   "source": [
    "def unify_party_main_name(r_df):\n",
    "    party_renamer = r_df[['date','party_main_EDRPOU','party_main_name']]\n",
    "    party_renamer = party_renamer.sort_values(['party_main_EDRPOU','date'], ascending=True)\n",
    "    party_renamer = party_renamer.drop_duplicates(['party_main_EDRPOU'], keep = 'last')\n",
    "    party_renamer = party_renamer.set_index('party_main_EDRPOU').to_dict()['party_main_name']\n",
    "\n",
    "    r_df['party_main_name'] = r_df['party_main_EDRPOU'].replace(party_renamer)\n",
    "    return r_df"
   ]
  },
  {
   "cell_type": "code",
   "execution_count": 51,
   "metadata": {},
   "outputs": [],
   "source": [
    "r_df = unify_party_main_name(r_df)"
   ]
  },
  {
   "cell_type": "code",
   "execution_count": 52,
   "metadata": {},
   "outputs": [
    {
     "data": {
      "text/plain": [
       "232"
      ]
     },
     "execution_count": 52,
     "metadata": {},
     "output_type": "execute_result"
    }
   ],
   "source": [
    "len(r_df.party_main_name.unique())"
   ]
  },
  {
   "cell_type": "code",
   "execution_count": 56,
   "metadata": {},
   "outputs": [],
   "source": []
  },
  {
   "cell_type": "code",
   "execution_count": 12,
   "metadata": {},
   "outputs": [
    {
     "data": {
      "text/plain": [
       "232"
      ]
     },
     "execution_count": 12,
     "metadata": {},
     "output_type": "execute_result"
    }
   ],
   "source": [
    "len(r_df['party_main_name'].unique())\n",
    "len(r_df['party_main_EDRPOU'].unique())"
   ]
  },
  {
   "cell_type": "code",
   "execution_count": null,
   "metadata": {},
   "outputs": [],
   "source": []
  },
  {
   "cell_type": "markdown",
   "metadata": {},
   "source": [
    "## Download party info"
   ]
  },
  {
   "cell_type": "code",
   "execution_count": 4,
   "metadata": {},
   "outputs": [],
   "source": [
    "party_list, party_region_list = download_party_info()"
   ]
  },
  {
   "cell_type": "markdown",
   "metadata": {},
   "source": [
    "## Download all reports"
   ]
  },
  {
   "cell_type": "code",
   "execution_count": 5,
   "metadata": {},
   "outputs": [
    {
     "name": "stderr",
     "output_type": "stream",
     "text": [
      "100%|██████████| 827/827 [04:37<00:00,  2.98it/s]\n"
     ]
    }
   ],
   "source": [
    "r_df = download_all_reports(full_update)"
   ]
  },
  {
   "cell_type": "code",
   "execution_count": 6,
   "metadata": {},
   "outputs": [],
   "source": [
    "r_df = party_name_cleaner(r_df, party_variable = 'party_main_name')"
   ]
  },
  {
   "cell_type": "markdown",
   "metadata": {},
   "source": [
    "## Tables"
   ]
  },
  {
   "cell_type": "code",
   "execution_count": 7,
   "metadata": {},
   "outputs": [
    {
     "name": "stderr",
     "output_type": "stream",
     "text": [
      "/home/yd/2024-04_IFES_NAZK/politdata_nazk_tables/table_functions.py:41: SettingWithCopyWarning: \n",
      "A value is trying to be set on a copy of a slice from a DataFrame.\n",
      "Try using .loc[row_indexer,col_indexer] = value instead\n",
      "\n",
      "See the caveats in the documentation: https://pandas.pydata.org/pandas-docs/stable/user_guide/indexing.html#returning-a-view-versus-a-copy\n",
      "  table_subset['reported_period'] = table_subset['report_year'].astype(str) + ', ' + table_subset['report_period']\n"
     ]
    }
   ],
   "source": [
    "### Таблиця 0.1: Перевірка на наявність дублів\n",
    "table_0_1(r_df, full_update)\n",
    "\n",
    "### Таблиця 1: загальна інформація про партію/осередок\n",
    "table_1(r_df, full_update)\n",
    "\n",
    "### Таблиця 0.2: Інформація про те, за який період кожна партія подала звіти\n",
    "table_0_2()\n",
    "\n",
    "### Таблиця 2: інформація про осередки політичної партії  \n",
    "table_2_1(r_df, full_update)\n",
    "\n",
    "### Таблиця 3: інформація про інші підприємства, установи та організації створені партією політичної партії\n",
    "table_2_2(r_df, full_update)\n",
    "\n",
    "### Таблиця 4: зведена інформація про нерухоме майно політичної партії (propertyObjects)\n",
    "table_3_1(r_df, full_update)\n",
    "\n",
    "### Таблиця 5: зведена інформація про рухоме майно політичної партії (propertyMovables)\n",
    "table_3_2(r_df, full_update)\n",
    "\n",
    "### Таблиця 6: зведена інформація про автотранспорт політичної партії (propertyTransport)\n",
    "table_3_3(r_df, full_update, party_list, party_region_list)\n",
    "\n",
    "### Таблиця 7: зведена інформація про цінні папери політичної партії (propertyPapers)\n",
    "table_3_4(r_df, full_update)\n",
    "\n",
    "### Таблиця 8: зведена інформація про інше майно та нематеріальні активи політичної партії (propertyNoMoney)\n",
    "table_3_5(r_df, full_update)\n",
    "\n",
    "### Таблиця 9: зведена інформація про банківські рахунки політичної партії (propertyMoney)\n",
    "table_4(r_df, full_update)\n",
    "\n",
    "### Таблиця 10: зведена інформація про приватні грошові внески на рахунки політичної партії (contributionConMoney)  \n",
    "table_5(r_df, full_update, party_list, party_region_list)\n",
    "\n",
    "### Таблиця 11: зведена інформація про негрошові внески на користь політичної партії (contributionOtherCon)\n",
    "table_6(r_df, full_update, party_list, party_region_list)\n",
    "\n",
    "### Таблиця 12: зведена інформація про кошти державного фінансування виплачені політичним партіям (contributionCosts)\n",
    "table_7(r_df, full_update)\n",
    "\n",
    "### Таблиця 13: зведена інформація про інші грошові надходження на рахунки політичних партій (contributionOtherCosts)\n",
    "table_8(r_df, full_update)\n",
    "\n",
    "### Таблиця 14: зведена інформація про витрати державного фінансування політичних партій (paymentGov)\n",
    "table_9_1(r_df, full_update, party_list, party_region_list)\n",
    "\n",
    "### Таблиця 15: зведена інформація про витрати з рахунків з приватним фінансуванням (paymentOther)\n",
    "table_9_2(r_df, full_update, party_list, party_region_list)\n",
    "\n",
    "### Таблиця 16: зведена інформація про отримання помилкових надходжень (paymentCostsPaymentReceive)\n",
    "table_9_3(r_df, full_update)\n",
    "\n",
    "### НЕ ІСНУЄ Таблиця 17: інформація про повернення внесків та помилкових надходжень (paymentCostsPaymentReturn)\n",
    "\n",
    "### Таблиця 18: інформація про отримання помилкових інших (негрошових) внесків (paymentOtherCostsPaymentReceive)\n",
    "table_9_5(r_df, full_update)\n",
    "\n",
    "### НЕ ІСНУЄ Таблиця 19: інформація про отримання помилкових інших (негрошових) внесків (paymentOtherCostsPaymentReturn)\n",
    "\n",
    "### Таблиця 20: інформація про фінансові зобов'язання (obligate)\n",
    "table_10(r_df, full_update)\n",
    "\n",
    "### Перевірити в яких файлах є які партії\n",
    "files_where_to_look_for_local_parties()"
   ]
  },
  {
   "cell_type": "code",
   "execution_count": 2,
   "metadata": {},
   "outputs": [],
   "source": [
    "# Додати в readme дату і час останнього оновлення\n",
    "now = datetime.now().strftime(\"%Y-%m-%d %H:%M\")\n",
    "\n",
    "\n",
    "with open('README.md', 'r') as file:\n",
    "    data = file.readlines()\n",
    "    # replace line wich starts with '**Останнє оновленн' for f\"**Останнє оновлення: {now}**\\n\"\n",
    "    for i in range(len(data)):\n",
    "        if data[i].startswith('**Останнє оновленн'):\n",
    "            data[i] = f\"**Останнє оновлення: {now}**\\n\"\n",
    "            break\n",
    "with open('README.md', 'w') as file:\n",
    "    file.writelines(data)"
   ]
  },
  {
   "cell_type": "code",
   "execution_count": null,
   "metadata": {},
   "outputs": [],
   "source": []
  }
 ],
 "metadata": {
  "kernelspec": {
   "display_name": ".venv",
   "language": "python",
   "name": "python3"
  },
  "language_info": {
   "codemirror_mode": {
    "name": "ipython",
    "version": 3
   },
   "file_extension": ".py",
   "mimetype": "text/x-python",
   "name": "python",
   "nbconvert_exporter": "python",
   "pygments_lexer": "ipython3",
   "version": "3.9.6"
  }
 },
 "nbformat": 4,
 "nbformat_minor": 2
}
